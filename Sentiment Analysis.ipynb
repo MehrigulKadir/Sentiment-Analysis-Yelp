{
 "cells": [
  {
   "cell_type": "markdown",
   "id": "48100b3d-65c6-476f-b581-c68b08f50427",
   "metadata": {},
   "source": [
    "<div style=\"background-color: #0000ff; color: #e6f7ff; padding: 20px; border-radius: 10px; text-align: center;\">\n",
    "  <h2>Yelp Review Sentiment Analysis</h2>\n",
    "</div>\n",
    "\n",
    "\n",
    "\n",
    "\n"
   ]
  },
  {
   "cell_type": "markdown",
   "id": "2563db85-baa3-4878-a366-29f79eb1f118",
   "metadata": {},
   "source": [
    "<div style=\"background-color:  #3366ff; color: #e6f7ff; padding: 20px; border-radius: 10px;\">\n",
    "  <h2>1. Importing Necessary Libraries</h2>\n",
    "</div>\n",
    "\n",
    "\n"
   ]
  },
  {
   "cell_type": "code",
   "execution_count": 2,
   "id": "f157b1f3-d7c2-4844-9725-33338d0423bb",
   "metadata": {
    "collapsed": true,
    "jupyter": {
     "outputs_hidden": true
    }
   },
   "outputs": [
    {
     "name": "stdout",
     "output_type": "stream",
     "text": [
      "Requirement already satisfied: nltk in /Users/nazira/miniconda3/envs/metrica/lib/python3.10/site-packages (3.8.1)\n",
      "Requirement already satisfied: click in /Users/nazira/miniconda3/envs/metrica/lib/python3.10/site-packages (from nltk) (8.1.7)\n",
      "Requirement already satisfied: joblib in /Users/nazira/miniconda3/envs/metrica/lib/python3.10/site-packages (from nltk) (1.2.0)\n",
      "Requirement already satisfied: regex>=2021.8.3 in /Users/nazira/miniconda3/envs/metrica/lib/python3.10/site-packages (from nltk) (2023.12.25)\n",
      "Requirement already satisfied: tqdm in /Users/nazira/miniconda3/envs/metrica/lib/python3.10/site-packages (from nltk) (4.66.1)\n",
      "Requirement already satisfied: twython in /Users/nazira/miniconda3/envs/metrica/lib/python3.10/site-packages (3.9.1)\n",
      "Requirement already satisfied: requests>=2.1.0 in /Users/nazira/miniconda3/envs/metrica/lib/python3.10/site-packages (from twython) (2.31.0)\n",
      "Requirement already satisfied: requests-oauthlib>=0.4.0 in /Users/nazira/miniconda3/envs/metrica/lib/python3.10/site-packages (from twython) (1.3.1)\n",
      "Requirement already satisfied: charset-normalizer<4,>=2 in /Users/nazira/miniconda3/envs/metrica/lib/python3.10/site-packages (from requests>=2.1.0->twython) (3.2.0)\n",
      "Requirement already satisfied: idna<4,>=2.5 in /Users/nazira/miniconda3/envs/metrica/lib/python3.10/site-packages (from requests>=2.1.0->twython) (3.4)\n",
      "Requirement already satisfied: urllib3<3,>=1.21.1 in /Users/nazira/miniconda3/envs/metrica/lib/python3.10/site-packages (from requests>=2.1.0->twython) (2.0.4)\n",
      "Requirement already satisfied: certifi>=2017.4.17 in /Users/nazira/miniconda3/envs/metrica/lib/python3.10/site-packages (from requests>=2.1.0->twython) (2023.7.22)\n",
      "Requirement already satisfied: oauthlib>=3.0.0 in /Users/nazira/miniconda3/envs/metrica/lib/python3.10/site-packages (from requests-oauthlib>=0.4.0->twython) (3.2.2)\n",
      "Requirement already satisfied: textblob in /Users/nazira/miniconda3/envs/metrica/lib/python3.10/site-packages (0.18.0.post0)\n",
      "Requirement already satisfied: nltk>=3.8 in /Users/nazira/miniconda3/envs/metrica/lib/python3.10/site-packages (from textblob) (3.8.1)\n",
      "Requirement already satisfied: click in /Users/nazira/miniconda3/envs/metrica/lib/python3.10/site-packages (from nltk>=3.8->textblob) (8.1.7)\n",
      "Requirement already satisfied: joblib in /Users/nazira/miniconda3/envs/metrica/lib/python3.10/site-packages (from nltk>=3.8->textblob) (1.2.0)\n",
      "Requirement already satisfied: regex>=2021.8.3 in /Users/nazira/miniconda3/envs/metrica/lib/python3.10/site-packages (from nltk>=3.8->textblob) (2023.12.25)\n",
      "Requirement already satisfied: tqdm in /Users/nazira/miniconda3/envs/metrica/lib/python3.10/site-packages (from nltk>=3.8->textblob) (4.66.1)\n",
      "Requirement already satisfied: wordcloud in /Users/nazira/miniconda3/envs/metrica/lib/python3.10/site-packages (1.9.3)\n",
      "Requirement already satisfied: numpy>=1.6.1 in /Users/nazira/miniconda3/envs/metrica/lib/python3.10/site-packages (from wordcloud) (1.25.2)\n",
      "Requirement already satisfied: pillow in /Users/nazira/miniconda3/envs/metrica/lib/python3.10/site-packages (from wordcloud) (9.4.0)\n",
      "Requirement already satisfied: matplotlib in /Users/nazira/miniconda3/envs/metrica/lib/python3.10/site-packages (from wordcloud) (3.7.2)\n",
      "Requirement already satisfied: contourpy>=1.0.1 in /Users/nazira/miniconda3/envs/metrica/lib/python3.10/site-packages (from matplotlib->wordcloud) (1.0.5)\n",
      "Requirement already satisfied: cycler>=0.10 in /Users/nazira/miniconda3/envs/metrica/lib/python3.10/site-packages (from matplotlib->wordcloud) (0.11.0)\n",
      "Requirement already satisfied: fonttools>=4.22.0 in /Users/nazira/miniconda3/envs/metrica/lib/python3.10/site-packages (from matplotlib->wordcloud) (4.25.0)\n",
      "Requirement already satisfied: kiwisolver>=1.0.1 in /Users/nazira/miniconda3/envs/metrica/lib/python3.10/site-packages (from matplotlib->wordcloud) (1.4.4)\n",
      "Requirement already satisfied: packaging>=20.0 in /Users/nazira/miniconda3/envs/metrica/lib/python3.10/site-packages (from matplotlib->wordcloud) (23.1)\n",
      "Requirement already satisfied: pyparsing<3.1,>=2.3.1 in /Users/nazira/miniconda3/envs/metrica/lib/python3.10/site-packages (from matplotlib->wordcloud) (3.0.9)\n",
      "Requirement already satisfied: python-dateutil>=2.7 in /Users/nazira/miniconda3/envs/metrica/lib/python3.10/site-packages (from matplotlib->wordcloud) (2.8.2)\n",
      "Requirement already satisfied: six>=1.5 in /Users/nazira/miniconda3/envs/metrica/lib/python3.10/site-packages (from python-dateutil>=2.7->matplotlib->wordcloud) (1.16.0)\n"
     ]
    }
   ],
   "source": [
    "!pip install nltk\n",
    "!pip install twython\n",
    "!pip install textblob\n",
    "!pip install wordcloud"
   ]
  },
  {
   "cell_type": "code",
   "execution_count": 3,
   "id": "7ee69b0a-f314-4521-b3e0-94a9e5f11d91",
   "metadata": {},
   "outputs": [
    {
     "name": "stderr",
     "output_type": "stream",
     "text": [
      "/Users/nazira/miniconda3/envs/metrica/lib/python3.10/site-packages/pandas/core/arrays/masked.py:60: UserWarning: Pandas requires version '1.3.6' or newer of 'bottleneck' (version '1.3.5' currently installed).\n",
      "  from pandas.core import (\n"
     ]
    }
   ],
   "source": [
    "from warnings import filterwarnings\n",
    "import matplotlib.pyplot as plt\n",
    "import numpy as np\n",
    "import pandas as pd\n",
    "import nltk\n",
    "from PIL import Image\n",
    "from nltk.corpus import stopwords\n",
    "from nltk.sentiment import SentimentIntensityAnalyzer\n",
    "from sklearn.feature_extraction.text import CountVectorizer\n",
    "from sklearn.feature_extraction.text import TfidfVectorizer\n",
    "from sklearn.ensemble import RandomForestClassifier\n",
    "from sklearn.linear_model import LogisticRegression\n",
    "from sklearn.model_selection import cross_val_score, GridSearchCV, cross_validate\n",
    "from sklearn.preprocessing import LabelEncoder\n",
    "from textblob import Word, TextBlob\n",
    "from wordcloud import WordCloud"
   ]
  },
  {
   "cell_type": "code",
   "execution_count": 4,
   "id": "d6c551ff-4f3f-4cca-80ac-d0b9a1a1b3e8",
   "metadata": {
    "collapsed": true,
    "jupyter": {
     "outputs_hidden": true
    }
   },
   "outputs": [
    {
     "name": "stdout",
     "output_type": "stream",
     "text": [
      "Requirement already satisfied: pandas in /Users/nazira/miniconda3/envs/metrica/lib/python3.10/site-packages (2.2.2)\n",
      "Requirement already satisfied: numpy>=1.22.4 in /Users/nazira/miniconda3/envs/metrica/lib/python3.10/site-packages (from pandas) (1.25.2)\n",
      "Requirement already satisfied: python-dateutil>=2.8.2 in /Users/nazira/miniconda3/envs/metrica/lib/python3.10/site-packages (from pandas) (2.8.2)\n",
      "Requirement already satisfied: pytz>=2020.1 in /Users/nazira/miniconda3/envs/metrica/lib/python3.10/site-packages (from pandas) (2022.7)\n",
      "Requirement already satisfied: tzdata>=2022.7 in /Users/nazira/miniconda3/envs/metrica/lib/python3.10/site-packages (from pandas) (2023.3)\n",
      "Requirement already satisfied: six>=1.5 in /Users/nazira/miniconda3/envs/metrica/lib/python3.10/site-packages (from python-dateutil>=2.8.2->pandas) (1.16.0)\n"
     ]
    }
   ],
   "source": [
    "!pip install pandas --upgrade"
   ]
  },
  {
   "cell_type": "markdown",
   "id": "11807bd6-a4f5-4cee-a7bf-a8e5d1db1371",
   "metadata": {},
   "source": [
    "<div style=\"background-color:  #3366ff; color: #e6f7ff; padding: 20px; border-radius: 10px;\">\n",
    "  <h2>2. Data Overview</h2>\n",
    "</div>\n",
    "\n"
   ]
  },
  {
   "cell_type": "code",
   "execution_count": 5,
   "id": "4bfacb23-ab42-452d-9fa5-46f4153e1b1e",
   "metadata": {},
   "outputs": [
    {
     "data": {
      "text/html": [
       "<div>\n",
       "<style scoped>\n",
       "    .dataframe tbody tr th:only-of-type {\n",
       "        vertical-align: middle;\n",
       "    }\n",
       "\n",
       "    .dataframe tbody tr th {\n",
       "        vertical-align: top;\n",
       "    }\n",
       "\n",
       "    .dataframe thead th {\n",
       "        text-align: right;\n",
       "    }\n",
       "</style>\n",
       "<table border=\"1\" class=\"dataframe\">\n",
       "  <thead>\n",
       "    <tr style=\"text-align: right;\">\n",
       "      <th></th>\n",
       "      <th>votes</th>\n",
       "      <th>user_id</th>\n",
       "      <th>review_id</th>\n",
       "      <th>stars</th>\n",
       "      <th>date</th>\n",
       "      <th>text</th>\n",
       "      <th>type</th>\n",
       "      <th>business_id</th>\n",
       "    </tr>\n",
       "  </thead>\n",
       "  <tbody>\n",
       "    <tr>\n",
       "      <th>0</th>\n",
       "      <td>{'funny': 0, 'useful': 5, 'cool': 2}</td>\n",
       "      <td>rLtl8ZkDX5vH5nAx9C3q5Q</td>\n",
       "      <td>fWKvX83p0-ka4JS3dc6E5A</td>\n",
       "      <td>5</td>\n",
       "      <td>2011-01-26</td>\n",
       "      <td>My wife took me here on my birthday for breakf...</td>\n",
       "      <td>review</td>\n",
       "      <td>9yKzy9PApeiPPOUJEtnvkg</td>\n",
       "    </tr>\n",
       "    <tr>\n",
       "      <th>1</th>\n",
       "      <td>{'funny': 0, 'useful': 0, 'cool': 0}</td>\n",
       "      <td>0a2KyEL0d3Yb1V6aivbIuQ</td>\n",
       "      <td>IjZ33sJrzXqU-0X6U8NwyA</td>\n",
       "      <td>5</td>\n",
       "      <td>2011-07-27</td>\n",
       "      <td>I have no idea why some people give bad review...</td>\n",
       "      <td>review</td>\n",
       "      <td>ZRJwVLyzEJq1VAihDhYiow</td>\n",
       "    </tr>\n",
       "    <tr>\n",
       "      <th>2</th>\n",
       "      <td>{'funny': 0, 'useful': 1, 'cool': 0}</td>\n",
       "      <td>0hT2KtfLiobPvh6cDC8JQg</td>\n",
       "      <td>IESLBzqUCLdSzSqm0eCSxQ</td>\n",
       "      <td>4</td>\n",
       "      <td>2012-06-14</td>\n",
       "      <td>love the gyro plate. Rice is so good and I als...</td>\n",
       "      <td>review</td>\n",
       "      <td>6oRAC4uyJCsJl1X0WZpVSA</td>\n",
       "    </tr>\n",
       "    <tr>\n",
       "      <th>3</th>\n",
       "      <td>{'funny': 0, 'useful': 2, 'cool': 1}</td>\n",
       "      <td>uZetl9T0NcROGOyFfughhg</td>\n",
       "      <td>G-WvGaISbqqaMHlNnByodA</td>\n",
       "      <td>5</td>\n",
       "      <td>2010-05-27</td>\n",
       "      <td>Rosie, Dakota, and I LOVE Chaparral Dog Park!!...</td>\n",
       "      <td>review</td>\n",
       "      <td>_1QQZuf4zZOyFCvXc0o6Vg</td>\n",
       "    </tr>\n",
       "    <tr>\n",
       "      <th>4</th>\n",
       "      <td>{'funny': 0, 'useful': 0, 'cool': 0}</td>\n",
       "      <td>vYmM4KTsC8ZfQBg-j5MWkw</td>\n",
       "      <td>1uJFq2r5QfJG_6ExMRCaGw</td>\n",
       "      <td>5</td>\n",
       "      <td>2012-01-05</td>\n",
       "      <td>General Manager Scott Petello is a good egg!!!...</td>\n",
       "      <td>review</td>\n",
       "      <td>6ozycU1RpktNG2-1BroVtw</td>\n",
       "    </tr>\n",
       "  </tbody>\n",
       "</table>\n",
       "</div>"
      ],
      "text/plain": [
       "                                  votes                 user_id  \\\n",
       "0  {'funny': 0, 'useful': 5, 'cool': 2}  rLtl8ZkDX5vH5nAx9C3q5Q   \n",
       "1  {'funny': 0, 'useful': 0, 'cool': 0}  0a2KyEL0d3Yb1V6aivbIuQ   \n",
       "2  {'funny': 0, 'useful': 1, 'cool': 0}  0hT2KtfLiobPvh6cDC8JQg   \n",
       "3  {'funny': 0, 'useful': 2, 'cool': 1}  uZetl9T0NcROGOyFfughhg   \n",
       "4  {'funny': 0, 'useful': 0, 'cool': 0}  vYmM4KTsC8ZfQBg-j5MWkw   \n",
       "\n",
       "                review_id  stars       date  \\\n",
       "0  fWKvX83p0-ka4JS3dc6E5A      5 2011-01-26   \n",
       "1  IjZ33sJrzXqU-0X6U8NwyA      5 2011-07-27   \n",
       "2  IESLBzqUCLdSzSqm0eCSxQ      4 2012-06-14   \n",
       "3  G-WvGaISbqqaMHlNnByodA      5 2010-05-27   \n",
       "4  1uJFq2r5QfJG_6ExMRCaGw      5 2012-01-05   \n",
       "\n",
       "                                                text    type  \\\n",
       "0  My wife took me here on my birthday for breakf...  review   \n",
       "1  I have no idea why some people give bad review...  review   \n",
       "2  love the gyro plate. Rice is so good and I als...  review   \n",
       "3  Rosie, Dakota, and I LOVE Chaparral Dog Park!!...  review   \n",
       "4  General Manager Scott Petello is a good egg!!!...  review   \n",
       "\n",
       "              business_id  \n",
       "0  9yKzy9PApeiPPOUJEtnvkg  \n",
       "1  ZRJwVLyzEJq1VAihDhYiow  \n",
       "2  6oRAC4uyJCsJl1X0WZpVSA  \n",
       "3  _1QQZuf4zZOyFCvXc0o6Vg  \n",
       "4  6ozycU1RpktNG2-1BroVtw  "
      ]
     },
     "execution_count": 5,
     "metadata": {},
     "output_type": "execute_result"
    }
   ],
   "source": [
    "yelp_json = pd.read_json('yelp_training_set_review.json',lines = True)\n",
    "yelp_json.head()"
   ]
  },
  {
   "cell_type": "markdown",
   "id": "8c953817-2bf4-4bf3-9052-72e9a77e6186",
   "metadata": {},
   "source": [
    "Which is the business got the most 1-star reviews?"
   ]
  },
  {
   "cell_type": "code",
   "execution_count": 6,
   "id": "f18bb8d4-6299-48a3-a2db-967022b6e3ec",
   "metadata": {},
   "outputs": [],
   "source": [
    "one_star_reviews = yelp_json.query(' stars == 1 ')"
   ]
  },
  {
   "cell_type": "code",
   "execution_count": 7,
   "id": "83ae41c3-d830-426d-871e-8d9e9badab5f",
   "metadata": {},
   "outputs": [
    {
     "data": {
      "text/plain": [
       "business_id\n",
       "bA-Cj6N9TEMlDlOh2aAnUw    95\n",
       "hW0Ne_HTHEAgGF1rAdmR-g    54\n",
       "VVeogjZya58oiTxK7qUjAQ    47\n",
       "K845ZDttFfx99zQ-0aE2tA    39\n",
       "fF6m3qsD5blnwuZRuYhzWg    35\n",
       "                          ..\n",
       "JXBdcBb3ivm89fhr6-yfSQ     1\n",
       "cRwNwAGQ8Pc_-orLefrwRw     1\n",
       "IpP2njkj92uTWAKToRmg1g     1\n",
       "X-L8U0Kjsb6ey4gNf6fyLQ     1\n",
       "HNusESyB6lEgrf5IUwUr_g     1\n",
       "Name: count, Length: 6292, dtype: int64"
      ]
     },
     "execution_count": 7,
     "metadata": {},
     "output_type": "execute_result"
    }
   ],
   "source": [
    "one_star_reviews['business_id'].value_counts()"
   ]
  },
  {
   "cell_type": "code",
   "execution_count": 8,
   "id": "ae8e4d19-4833-4e51-838c-486c2f628217",
   "metadata": {},
   "outputs": [
    {
     "data": {
      "text/html": [
       "<div>\n",
       "<style scoped>\n",
       "    .dataframe tbody tr th:only-of-type {\n",
       "        vertical-align: middle;\n",
       "    }\n",
       "\n",
       "    .dataframe tbody tr th {\n",
       "        vertical-align: top;\n",
       "    }\n",
       "\n",
       "    .dataframe thead th {\n",
       "        text-align: right;\n",
       "    }\n",
       "</style>\n",
       "<table border=\"1\" class=\"dataframe\">\n",
       "  <thead>\n",
       "    <tr style=\"text-align: right;\">\n",
       "      <th></th>\n",
       "      <th>funny</th>\n",
       "      <th>useful</th>\n",
       "      <th>cool</th>\n",
       "    </tr>\n",
       "  </thead>\n",
       "  <tbody>\n",
       "    <tr>\n",
       "      <th>0</th>\n",
       "      <td>0</td>\n",
       "      <td>5</td>\n",
       "      <td>2</td>\n",
       "    </tr>\n",
       "    <tr>\n",
       "      <th>1</th>\n",
       "      <td>0</td>\n",
       "      <td>0</td>\n",
       "      <td>0</td>\n",
       "    </tr>\n",
       "    <tr>\n",
       "      <th>2</th>\n",
       "      <td>0</td>\n",
       "      <td>1</td>\n",
       "      <td>0</td>\n",
       "    </tr>\n",
       "    <tr>\n",
       "      <th>3</th>\n",
       "      <td>0</td>\n",
       "      <td>2</td>\n",
       "      <td>1</td>\n",
       "    </tr>\n",
       "    <tr>\n",
       "      <th>4</th>\n",
       "      <td>0</td>\n",
       "      <td>0</td>\n",
       "      <td>0</td>\n",
       "    </tr>\n",
       "    <tr>\n",
       "      <th>...</th>\n",
       "      <td>...</td>\n",
       "      <td>...</td>\n",
       "      <td>...</td>\n",
       "    </tr>\n",
       "    <tr>\n",
       "      <th>229902</th>\n",
       "      <td>0</td>\n",
       "      <td>0</td>\n",
       "      <td>0</td>\n",
       "    </tr>\n",
       "    <tr>\n",
       "      <th>229903</th>\n",
       "      <td>0</td>\n",
       "      <td>2</td>\n",
       "      <td>0</td>\n",
       "    </tr>\n",
       "    <tr>\n",
       "      <th>229904</th>\n",
       "      <td>0</td>\n",
       "      <td>0</td>\n",
       "      <td>0</td>\n",
       "    </tr>\n",
       "    <tr>\n",
       "      <th>229905</th>\n",
       "      <td>1</td>\n",
       "      <td>2</td>\n",
       "      <td>0</td>\n",
       "    </tr>\n",
       "    <tr>\n",
       "      <th>229906</th>\n",
       "      <td>1</td>\n",
       "      <td>0</td>\n",
       "      <td>1</td>\n",
       "    </tr>\n",
       "  </tbody>\n",
       "</table>\n",
       "<p>229907 rows × 3 columns</p>\n",
       "</div>"
      ],
      "text/plain": [
       "        funny  useful  cool\n",
       "0           0       5     2\n",
       "1           0       0     0\n",
       "2           0       1     0\n",
       "3           0       2     1\n",
       "4           0       0     0\n",
       "...       ...     ...   ...\n",
       "229902      0       0     0\n",
       "229903      0       2     0\n",
       "229904      0       0     0\n",
       "229905      1       2     0\n",
       "229906      1       0     1\n",
       "\n",
       "[229907 rows x 3 columns]"
      ]
     },
     "execution_count": 8,
     "metadata": {},
     "output_type": "execute_result"
    }
   ],
   "source": [
    "votes_new = pd.json_normalize(yelp_json['votes'])\n",
    "votes_new"
   ]
  },
  {
   "cell_type": "code",
   "execution_count": 9,
   "id": "f3078163-ae92-4c6b-bd2b-0d9c8b42de24",
   "metadata": {},
   "outputs": [
    {
     "data": {
      "text/html": [
       "<div>\n",
       "<style scoped>\n",
       "    .dataframe tbody tr th:only-of-type {\n",
       "        vertical-align: middle;\n",
       "    }\n",
       "\n",
       "    .dataframe tbody tr th {\n",
       "        vertical-align: top;\n",
       "    }\n",
       "\n",
       "    .dataframe thead th {\n",
       "        text-align: right;\n",
       "    }\n",
       "</style>\n",
       "<table border=\"1\" class=\"dataframe\">\n",
       "  <thead>\n",
       "    <tr style=\"text-align: right;\">\n",
       "      <th></th>\n",
       "      <th>user_id</th>\n",
       "      <th>review_id</th>\n",
       "      <th>stars</th>\n",
       "      <th>date</th>\n",
       "      <th>text</th>\n",
       "      <th>type</th>\n",
       "      <th>business_id</th>\n",
       "      <th>funny</th>\n",
       "      <th>useful</th>\n",
       "      <th>cool</th>\n",
       "    </tr>\n",
       "  </thead>\n",
       "  <tbody>\n",
       "    <tr>\n",
       "      <th>0</th>\n",
       "      <td>rLtl8ZkDX5vH5nAx9C3q5Q</td>\n",
       "      <td>fWKvX83p0-ka4JS3dc6E5A</td>\n",
       "      <td>5</td>\n",
       "      <td>2011-01-26</td>\n",
       "      <td>My wife took me here on my birthday for breakf...</td>\n",
       "      <td>review</td>\n",
       "      <td>9yKzy9PApeiPPOUJEtnvkg</td>\n",
       "      <td>0</td>\n",
       "      <td>5</td>\n",
       "      <td>2</td>\n",
       "    </tr>\n",
       "    <tr>\n",
       "      <th>1</th>\n",
       "      <td>0a2KyEL0d3Yb1V6aivbIuQ</td>\n",
       "      <td>IjZ33sJrzXqU-0X6U8NwyA</td>\n",
       "      <td>5</td>\n",
       "      <td>2011-07-27</td>\n",
       "      <td>I have no idea why some people give bad review...</td>\n",
       "      <td>review</td>\n",
       "      <td>ZRJwVLyzEJq1VAihDhYiow</td>\n",
       "      <td>0</td>\n",
       "      <td>0</td>\n",
       "      <td>0</td>\n",
       "    </tr>\n",
       "    <tr>\n",
       "      <th>2</th>\n",
       "      <td>0hT2KtfLiobPvh6cDC8JQg</td>\n",
       "      <td>IESLBzqUCLdSzSqm0eCSxQ</td>\n",
       "      <td>4</td>\n",
       "      <td>2012-06-14</td>\n",
       "      <td>love the gyro plate. Rice is so good and I als...</td>\n",
       "      <td>review</td>\n",
       "      <td>6oRAC4uyJCsJl1X0WZpVSA</td>\n",
       "      <td>0</td>\n",
       "      <td>1</td>\n",
       "      <td>0</td>\n",
       "    </tr>\n",
       "    <tr>\n",
       "      <th>3</th>\n",
       "      <td>uZetl9T0NcROGOyFfughhg</td>\n",
       "      <td>G-WvGaISbqqaMHlNnByodA</td>\n",
       "      <td>5</td>\n",
       "      <td>2010-05-27</td>\n",
       "      <td>Rosie, Dakota, and I LOVE Chaparral Dog Park!!...</td>\n",
       "      <td>review</td>\n",
       "      <td>_1QQZuf4zZOyFCvXc0o6Vg</td>\n",
       "      <td>0</td>\n",
       "      <td>2</td>\n",
       "      <td>1</td>\n",
       "    </tr>\n",
       "    <tr>\n",
       "      <th>4</th>\n",
       "      <td>vYmM4KTsC8ZfQBg-j5MWkw</td>\n",
       "      <td>1uJFq2r5QfJG_6ExMRCaGw</td>\n",
       "      <td>5</td>\n",
       "      <td>2012-01-05</td>\n",
       "      <td>General Manager Scott Petello is a good egg!!!...</td>\n",
       "      <td>review</td>\n",
       "      <td>6ozycU1RpktNG2-1BroVtw</td>\n",
       "      <td>0</td>\n",
       "      <td>0</td>\n",
       "      <td>0</td>\n",
       "    </tr>\n",
       "  </tbody>\n",
       "</table>\n",
       "</div>"
      ],
      "text/plain": [
       "                  user_id               review_id  stars       date  \\\n",
       "0  rLtl8ZkDX5vH5nAx9C3q5Q  fWKvX83p0-ka4JS3dc6E5A      5 2011-01-26   \n",
       "1  0a2KyEL0d3Yb1V6aivbIuQ  IjZ33sJrzXqU-0X6U8NwyA      5 2011-07-27   \n",
       "2  0hT2KtfLiobPvh6cDC8JQg  IESLBzqUCLdSzSqm0eCSxQ      4 2012-06-14   \n",
       "3  uZetl9T0NcROGOyFfughhg  G-WvGaISbqqaMHlNnByodA      5 2010-05-27   \n",
       "4  vYmM4KTsC8ZfQBg-j5MWkw  1uJFq2r5QfJG_6ExMRCaGw      5 2012-01-05   \n",
       "\n",
       "                                                text    type  \\\n",
       "0  My wife took me here on my birthday for breakf...  review   \n",
       "1  I have no idea why some people give bad review...  review   \n",
       "2  love the gyro plate. Rice is so good and I als...  review   \n",
       "3  Rosie, Dakota, and I LOVE Chaparral Dog Park!!...  review   \n",
       "4  General Manager Scott Petello is a good egg!!!...  review   \n",
       "\n",
       "              business_id  funny  useful  cool  \n",
       "0  9yKzy9PApeiPPOUJEtnvkg      0       5     2  \n",
       "1  ZRJwVLyzEJq1VAihDhYiow      0       0     0  \n",
       "2  6oRAC4uyJCsJl1X0WZpVSA      0       1     0  \n",
       "3  _1QQZuf4zZOyFCvXc0o6Vg      0       2     1  \n",
       "4  6ozycU1RpktNG2-1BroVtw      0       0     0  "
      ]
     },
     "execution_count": 9,
     "metadata": {},
     "output_type": "execute_result"
    }
   ],
   "source": [
    "yelp_orig = pd.concat([yelp_json,votes_new], axis=1).drop(columns=['votes'])\n",
    "yelp_orig.head()"
   ]
  },
  {
   "cell_type": "markdown",
   "id": "a034dfdd-84f4-4224-a2f7-85af7b4c9cad",
   "metadata": {},
   "source": [
    "<div style=\"background-color:  #3366ff; color: #e6f7ff; padding: 20px; border-radius: 10px;\">\n",
    "  <h2>3. Text Preprocessing</h2>\n",
    "</div>\n",
    "\n",
    "\n"
   ]
  },
  {
   "cell_type": "markdown",
   "id": "a4cd22a0-b3ac-4f19-a97f-aeccc4baed43",
   "metadata": {},
   "source": [
    "## 3.1 Normalizing Case Folding ##"
   ]
  },
  {
   "cell_type": "code",
   "execution_count": 10,
   "id": "b36e0fd3-9c7a-41a4-a4ef-8408b11f69bc",
   "metadata": {},
   "outputs": [
    {
     "data": {
      "text/plain": [
       "0         My wife took me here on my birthday for breakf...\n",
       "1         I have no idea why some people give bad review...\n",
       "2         love the gyro plate. Rice is so good and I als...\n",
       "3         Rosie, Dakota, and I LOVE Chaparral Dog Park!!...\n",
       "4         General Manager Scott Petello is a good egg!!!...\n",
       "                                ...                        \n",
       "229902    I really wanted to like this place because it'...\n",
       "229903    My husband I stayed here for two nights.  Of c...\n",
       "229904    Cool atmosphere. A lot of beers on tap and goo...\n",
       "229905    I have to take a star off for the spotty servi...\n",
       "229906                                         So cool, yo.\n",
       "Name: text, Length: 229907, dtype: object"
      ]
     },
     "execution_count": 10,
     "metadata": {},
     "output_type": "execute_result"
    }
   ],
   "source": [
    "yelp_orig['text']"
   ]
  },
  {
   "cell_type": "code",
   "execution_count": 11,
   "id": "aff940d2-d2f4-47cc-92d8-f0ff6954e390",
   "metadata": {},
   "outputs": [],
   "source": [
    "yelp_orig['text'] = yelp_orig['text'].str.lower()"
   ]
  },
  {
   "cell_type": "code",
   "execution_count": 12,
   "id": "711ab10e-a6b8-472a-a5fb-fcd5a442249e",
   "metadata": {},
   "outputs": [
    {
     "data": {
      "text/plain": [
       "0         my wife took me here on my birthday for breakf...\n",
       "1         i have no idea why some people give bad review...\n",
       "2         love the gyro plate. rice is so good and i als...\n",
       "3         rosie, dakota, and i love chaparral dog park!!...\n",
       "4         general manager scott petello is a good egg!!!...\n",
       "                                ...                        \n",
       "229902    i really wanted to like this place because it'...\n",
       "229903    my husband i stayed here for two nights.  of c...\n",
       "229904    cool atmosphere. a lot of beers on tap and goo...\n",
       "229905    i have to take a star off for the spotty servi...\n",
       "229906                                         so cool, yo.\n",
       "Name: text, Length: 229907, dtype: object"
      ]
     },
     "execution_count": 12,
     "metadata": {},
     "output_type": "execute_result"
    }
   ],
   "source": [
    "yelp_orig['text']"
   ]
  },
  {
   "cell_type": "markdown",
   "id": "f7d37915-76a5-4a8d-9dad-5e421d951a27",
   "metadata": {},
   "source": [
    "## 3.2 Remove Punctuations ##"
   ]
  },
  {
   "cell_type": "code",
   "execution_count": 13,
   "id": "2f35a73d-c121-46dc-a2be-e1774727f16a",
   "metadata": {},
   "outputs": [],
   "source": [
    "yelp_orig['text'] = yelp_orig['text'].str.replace('[^\\w\\s]', '', regex=True)"
   ]
  },
  {
   "cell_type": "code",
   "execution_count": 14,
   "id": "6a845b2a-b5e2-470a-963e-2318653d0426",
   "metadata": {},
   "outputs": [
    {
     "data": {
      "text/plain": [
       "0         my wife took me here on my birthday for breakf...\n",
       "1         i have no idea why some people give bad review...\n",
       "2         love the gyro plate rice is so good and i also...\n",
       "3         rosie dakota and i love chaparral dog park its...\n",
       "4         general manager scott petello is a good egg no...\n",
       "                                ...                        \n",
       "229902    i really wanted to like this place because its...\n",
       "229903    my husband i stayed here for two nights  of co...\n",
       "229904    cool atmosphere a lot of beers on tap and good...\n",
       "229905    i have to take a star off for the spotty servi...\n",
       "229906                                           so cool yo\n",
       "Name: text, Length: 229907, dtype: object"
      ]
     },
     "execution_count": 14,
     "metadata": {},
     "output_type": "execute_result"
    }
   ],
   "source": [
    "yelp_orig['text']"
   ]
  },
  {
   "cell_type": "code",
   "execution_count": 15,
   "id": "9ab9e20f-8041-4455-b91e-923cfca913c1",
   "metadata": {},
   "outputs": [],
   "source": [
    "yelp_orig['text'] = yelp_orig['text'].str.replace('\\d', '', regex=True)"
   ]
  },
  {
   "cell_type": "markdown",
   "id": "e4289eca-f3f9-4211-a9c0-026491b229e0",
   "metadata": {},
   "source": [
    "## 3.3 Remove Stopwords ##"
   ]
  },
  {
   "cell_type": "code",
   "execution_count": 16,
   "id": "5a202f65-baea-4121-9f55-7d64c5be6406",
   "metadata": {},
   "outputs": [],
   "source": [
    "sw = stopwords.words('english')"
   ]
  },
  {
   "cell_type": "code",
   "execution_count": 17,
   "id": "0dfaa906-5dd0-4935-929a-42b7cf8be5ef",
   "metadata": {},
   "outputs": [],
   "source": [
    "yelp_orig['text'] = yelp_orig['text'].apply(lambda x: \" \".join(x for x in str(x).split() if x not in sw))"
   ]
  },
  {
   "cell_type": "code",
   "execution_count": 18,
   "id": "95c69e5d-a5e1-4672-ac21-8ff8cfd09e31",
   "metadata": {},
   "outputs": [
    {
     "data": {
      "text/plain": [
       "0         wife took birthday breakfast excellent weather...\n",
       "1         idea people give bad reviews place goes show p...\n",
       "2         love gyro plate rice good also dig candy selec...\n",
       "3         rosie dakota love chaparral dog park convenien...\n",
       "4         general manager scott petello good egg go deta...\n",
       "                                ...                        \n",
       "229902    really wanted like place close home honestly b...\n",
       "229903    husband stayed two nights course room wasnt re...\n",
       "229904    cool atmosphere lot beers tap good food went s...\n",
       "229905    take star spotty service received last time lu...\n",
       "229906                                              cool yo\n",
       "Name: text, Length: 229907, dtype: object"
      ]
     },
     "execution_count": 18,
     "metadata": {},
     "output_type": "execute_result"
    }
   ],
   "source": [
    "yelp_orig['text']"
   ]
  },
  {
   "cell_type": "markdown",
   "id": "708c1cfe-7dd6-49c4-a5be-37205d852618",
   "metadata": {},
   "source": [
    "## 3.4 Remove Rarewords ##"
   ]
  },
  {
   "cell_type": "code",
   "execution_count": 19,
   "id": "fc757b2d-324e-48a4-8bc3-eb12d065bfa5",
   "metadata": {},
   "outputs": [],
   "source": [
    "temp_df = pd.Series(' '.join(yelp_orig['text']).split()).value_counts()"
   ]
  },
  {
   "cell_type": "code",
   "execution_count": 20,
   "id": "3ffdd5bb-0579-4443-9311-6ee2f4339464",
   "metadata": {},
   "outputs": [
    {
     "data": {
      "text/plain": [
       "good                                152339\n",
       "place                               150376\n",
       "food                                139493\n",
       "great                               114933\n",
       "like                                114697\n",
       "                                     ...  \n",
       "flambrulee                               1\n",
       "predevoured                              1\n",
       "khanith                                  1\n",
       "greatneeded                              1\n",
       "forcedfriendlybutreallyirritated         1\n",
       "Name: count, Length: 214563, dtype: int64"
      ]
     },
     "execution_count": 20,
     "metadata": {},
     "output_type": "execute_result"
    }
   ],
   "source": [
    "temp_df"
   ]
  },
  {
   "cell_type": "code",
   "execution_count": 21,
   "id": "c478fea1-2854-4ba2-a720-f0300f73f1a6",
   "metadata": {},
   "outputs": [],
   "source": [
    "drops = temp_df[temp_df <= 1]"
   ]
  },
  {
   "cell_type": "code",
   "execution_count": 22,
   "id": "d236a9e8-22a3-4a7a-850a-7623d56eb52e",
   "metadata": {},
   "outputs": [],
   "source": [
    "yelp_orig['text'] = yelp_orig['text'].apply(lambda x: \" \".join(x for x in x.split() if x not in drops))"
   ]
  },
  {
   "cell_type": "code",
   "execution_count": 23,
   "id": "bfa935a4-ce3b-448f-9768-18fe887b2cb4",
   "metadata": {},
   "outputs": [
    {
     "data": {
      "text/plain": [
       "0         wife took birthday breakfast excellent weather...\n",
       "1         idea people give bad reviews place goes show p...\n",
       "2         love gyro plate rice good also dig candy selec...\n",
       "3         rosie dakota love chaparral dog park convenien...\n",
       "4         general manager scott good egg go detail let a...\n",
       "                                ...                        \n",
       "229902    really wanted like place close home honestly b...\n",
       "229903    husband stayed two nights course room wasnt re...\n",
       "229904    cool atmosphere lot beers tap good food went s...\n",
       "229905    take star spotty service received last time lu...\n",
       "229906                                              cool yo\n",
       "Name: text, Length: 229907, dtype: object"
      ]
     },
     "execution_count": 23,
     "metadata": {},
     "output_type": "execute_result"
    }
   ],
   "source": [
    "yelp_orig['text']"
   ]
  },
  {
   "cell_type": "code",
   "execution_count": 24,
   "id": "efc49122-91b3-4059-9c2f-bc0a7b401bbc",
   "metadata": {},
   "outputs": [],
   "source": [
    "temp_df_1 = pd.Series(' '.join(yelp_orig['text']).split()).value_counts()"
   ]
  },
  {
   "cell_type": "code",
   "execution_count": 25,
   "id": "bfab3591-d0da-4325-9bfc-d05938116f0c",
   "metadata": {},
   "outputs": [
    {
     "data": {
      "text/plain": [
       "good               152339\n",
       "place              150376\n",
       "food               139493\n",
       "great              114933\n",
       "like               114697\n",
       "                    ...  \n",
       "tiptoes                 2\n",
       "invergorden             2\n",
       "doormansecurity         2\n",
       "waitressand             2\n",
       "cullinary               2\n",
       "Name: count, Length: 80774, dtype: int64"
      ]
     },
     "execution_count": 25,
     "metadata": {},
     "output_type": "execute_result"
    }
   ],
   "source": [
    "temp_df_1"
   ]
  },
  {
   "cell_type": "markdown",
   "id": "740c95ee-a732-43ae-a832-3a1b32d74fc4",
   "metadata": {},
   "source": [
    "## 3.5 Tokenization ##"
   ]
  },
  {
   "cell_type": "code",
   "execution_count": 26,
   "id": "2965461f-982a-48f0-abe2-bd0f59b45b08",
   "metadata": {
    "collapsed": true,
    "jupyter": {
     "outputs_hidden": true
    }
   },
   "outputs": [
    {
     "name": "stderr",
     "output_type": "stream",
     "text": [
      "[nltk_data] Downloading package punkt to /Users/nazira/nltk_data...\n",
      "[nltk_data]   Package punkt is already up-to-date!\n"
     ]
    },
    {
     "data": {
      "text/plain": [
       "0    [wife, took, birthday, breakfast, excellent, w...\n",
       "1    [idea, people, give, bad, reviews, place, goes...\n",
       "2    [love, gyro, plate, rice, good, also, dig, can...\n",
       "3    [rosie, dakota, love, chaparral, dog, park, co...\n",
       "4    [general, manager, scott, good, egg, go, detai...\n",
       "Name: text, dtype: object"
      ]
     },
     "execution_count": 26,
     "metadata": {},
     "output_type": "execute_result"
    }
   ],
   "source": [
    "import nltk\n",
    "nltk.download('punkt')\n",
    "\n",
    "yelp_orig['text'].apply(lambda x: TextBlob(x).words).head()"
   ]
  },
  {
   "cell_type": "markdown",
   "id": "b1e206a6-d2e9-4288-a373-c352b1c9a306",
   "metadata": {},
   "source": [
    "## 3.6 Lemmatization ##"
   ]
  },
  {
   "cell_type": "code",
   "execution_count": 27,
   "id": "8529f86d-0971-40e0-a207-cd02686f701d",
   "metadata": {
    "collapsed": true,
    "jupyter": {
     "outputs_hidden": true
    }
   },
   "outputs": [
    {
     "name": "stderr",
     "output_type": "stream",
     "text": [
      "[nltk_data] Downloading package wordnet to /Users/nazira/nltk_data...\n",
      "[nltk_data]   Package wordnet is already up-to-date!\n"
     ]
    },
    {
     "data": {
      "text/plain": [
       "True"
      ]
     },
     "execution_count": 27,
     "metadata": {},
     "output_type": "execute_result"
    }
   ],
   "source": [
    "nltk.download('wordnet')"
   ]
  },
  {
   "cell_type": "code",
   "execution_count": 28,
   "id": "9b9e2c09-64c4-4b27-98f1-572fce49b295",
   "metadata": {
    "collapsed": true,
    "jupyter": {
     "outputs_hidden": true
    }
   },
   "outputs": [
    {
     "name": "stderr",
     "output_type": "stream",
     "text": [
      "[nltk_data] Downloading package omw-1.4 to /Users/nazira/nltk_data...\n",
      "[nltk_data]   Package omw-1.4 is already up-to-date!\n"
     ]
    },
    {
     "data": {
      "text/plain": [
       "True"
      ]
     },
     "execution_count": 28,
     "metadata": {},
     "output_type": "execute_result"
    }
   ],
   "source": [
    "nltk.download('omw-1.4')"
   ]
  },
  {
   "cell_type": "code",
   "execution_count": 29,
   "id": "9a604579-3d53-4757-bbc1-3ab0e9d86dc1",
   "metadata": {},
   "outputs": [],
   "source": [
    "yelp_orig['text'] = yelp_orig['text'].apply(lambda x: \" \".join([Word(word).lemmatize() for word in x.split()]))"
   ]
  },
  {
   "cell_type": "code",
   "execution_count": 30,
   "id": "24732b02-19b4-4147-a78f-4c5089f1438e",
   "metadata": {},
   "outputs": [
    {
     "data": {
      "text/plain": [
       "0         wife took birthday breakfast excellent weather...\n",
       "1         idea people give bad review place go show plea...\n",
       "2         love gyro plate rice good also dig candy selec...\n",
       "3         rosie dakota love chaparral dog park convenien...\n",
       "4         general manager scott good egg go detail let a...\n",
       "                                ...                        \n",
       "229902    really wanted like place close home honestly b...\n",
       "229903    husband stayed two night course room wasnt rea...\n",
       "229904    cool atmosphere lot beer tap good food went sa...\n",
       "229905    take star spotty service received last time lu...\n",
       "229906                                              cool yo\n",
       "Name: text, Length: 229907, dtype: object"
      ]
     },
     "execution_count": 30,
     "metadata": {},
     "output_type": "execute_result"
    }
   ],
   "source": [
    "yelp_orig['text']"
   ]
  },
  {
   "cell_type": "code",
   "execution_count": 31,
   "id": "f4a040ae-f403-4500-a93d-28e1971d7da9",
   "metadata": {},
   "outputs": [
    {
     "data": {
      "image/png": "[encoded data removed]",
      "text/plain": [
       "<Figure size 1000x500 with 1 Axes>"
      ]
     },
     "metadata": {},
     "output_type": "display_data"
    }
   ],
   "source": [
    "from wordcloud import WordCloud\n",
    "import matplotlib.pyplot as plt\n",
    "\n",
    "# Combine all the processed text into one string\n",
    "text = ' '.join(yelp_orig['text'])\n",
    "\n",
    "# Generate the word cloud\n",
    "wordcloud = WordCloud(width=800, height=400, background_color='white').generate(text)\n",
    "\n",
    "# Plot the word cloud\n",
    "plt.figure(figsize=(10, 5))\n",
    "plt.imshow(wordcloud, interpolation='bilinear')\n",
    "plt.axis('off')\n",
    "plt.show()\n"
   ]
  },
  {
   "cell_type": "markdown",
   "id": "1811eb54-8c7a-4f95-8269-4232fe54ca46",
   "metadata": {},
   "source": [
    "## 3.7 Calculation of Term Frequencies ##"
   ]
  },
  {
   "cell_type": "code",
   "execution_count": 42,
   "id": "acdc62f3-482d-403f-928e-05f06ee8694b",
   "metadata": {},
   "outputs": [],
   "source": [
    "# Filter out empty processed texts\n",
    "yelp_orig = yelp_orig[yelp_orig['text'] != '']"
   ]
  },
  {
   "cell_type": "code",
   "execution_count": 44,
   "id": "2b579e81-6795-4cab-81ef-726a34dda761",
   "metadata": {},
   "outputs": [],
   "source": [
    "documents = yelp_orig['text'].tolist()\n",
    "documents = [doc for doc in documents if doc.strip() != '']"
   ]
  },
  {
   "cell_type": "code",
   "execution_count": 45,
   "id": "dd66e905-6689-4a40-add1-b69036440d60",
   "metadata": {},
   "outputs": [
    {
     "name": "stdout",
     "output_type": "stream",
     "text": [
      "First few documents after preprocessing:\n",
      "wife took birthday breakfast excellent weather perfect made sitting outside overlooking ground absolute pleasure waitress excellent food arrived quickly semibusy saturday morning looked like place fill pretty quickly earlier get better favor get bloody mary phenomenal simply best ive ever im pretty sure use ingredient garden blend fresh order amazing everything menu look excellent white truffle scrambled egg vegetable skillet tasty delicious came piece griddled bread amazing absolutely made meal complete best toast ive ever anyway cant wait go back\n",
      "idea people give bad review place go show please everyone probably griping something many people like case friend arrived pm past sunday pretty crowded thought sunday evening thought would wait forever get seat said well seated girl come back seating someone else seated waiter came got drink order everyone pleasant host seated u waiter server price good well placed order decided wanted shared baked spaghetti calzone small here beef pizza try calzone huge got smallest one personal got small pizza awesome friend liked pizza better liked calzone better calzone sweetish sauce thats like sauce box part pizza take home door everything great like bad reviewer go show try thing bad reviewer serious issue\n",
      "love gyro plate rice good also dig candy selection\n",
      "rosie dakota love chaparral dog park convenient surrounded lot path desert xeriscape baseball field ballpark lake duck scottsdale park rec dept wonderful job keeping park clean shaded find trash can mitt located park path fenced area huge let dog run play sniff\n",
      "general manager scott good egg go detail let assure issue albeit rare speak scott treat guy respect state case id surprised dont walk totally satisfied like always say mistake inevitable recover important thanks scott awesome staff youve got customer life\n"
     ]
    }
   ],
   "source": [
    "# Debugging: Print the first few documents\n",
    "print(\"First few documents after preprocessing:\")\n",
    "for doc in documents[:5]:\n",
    "    print(doc)"
   ]
  },
  {
   "cell_type": "code",
   "execution_count": 46,
   "id": "cc8cbd70-7675-47e3-bc9e-f72a93119b91",
   "metadata": {},
   "outputs": [
    {
     "name": "stdout",
     "output_type": "stream",
     "text": [
      "Total number of documents: 229880\n"
     ]
    }
   ],
   "source": [
    "# Check the length of documents to ensure no empty strings\n",
    "print(f\"Total number of documents: {len(documents)}\")"
   ]
  },
  {
   "cell_type": "code",
   "execution_count": 47,
   "id": "030c7fcf-2302-4cb7-bc64-567e18661386",
   "metadata": {},
   "outputs": [],
   "source": [
    "vectorizer = TfidfVectorizer(max_df=0.9, min_df=5, max_features=10000)\n",
    "X = vectorizer.fit_transform(documents)"
   ]
  },
  {
   "cell_type": "code",
   "execution_count": 48,
   "id": "9427cbe1-1e3b-4a20-b367-8a703f2a5319",
   "metadata": {},
   "outputs": [],
   "source": [
    "feature_names = vectorizer.get_feature_names_out()"
   ]
  },
  {
   "cell_type": "code",
   "execution_count": 49,
   "id": "d6ac6bd9-62c9-406b-97cc-d45c785343d2",
   "metadata": {},
   "outputs": [],
   "source": [
    "# Calculate term frequencies from TF-IDF matrix X\n",
    "term_frequencies = np.asarray(X.sum(axis=0)).reshape(-1)"
   ]
  },
  {
   "cell_type": "code",
   "execution_count": 51,
   "id": "7ab67673-2453-42b7-bfde-b44bb07dd642",
   "metadata": {},
   "outputs": [
    {
     "data": {
      "text/html": [
       "<div>\n",
       "<style scoped>\n",
       "    .dataframe tbody tr th:only-of-type {\n",
       "        vertical-align: middle;\n",
       "    }\n",
       "\n",
       "    .dataframe tbody tr th {\n",
       "        vertical-align: top;\n",
       "    }\n",
       "\n",
       "    .dataframe thead th {\n",
       "        text-align: right;\n",
       "    }\n",
       "</style>\n",
       "<table border=\"1\" class=\"dataframe\">\n",
       "  <thead>\n",
       "    <tr style=\"text-align: right;\">\n",
       "      <th></th>\n",
       "      <th>term</th>\n",
       "      <th>frequency</th>\n",
       "    </tr>\n",
       "  </thead>\n",
       "  <tbody>\n",
       "    <tr>\n",
       "      <th>0</th>\n",
       "      <td>place</td>\n",
       "      <td>7812.069734</td>\n",
       "    </tr>\n",
       "    <tr>\n",
       "      <th>1</th>\n",
       "      <td>good</td>\n",
       "      <td>7597.962532</td>\n",
       "    </tr>\n",
       "    <tr>\n",
       "      <th>2</th>\n",
       "      <td>food</td>\n",
       "      <td>7553.172953</td>\n",
       "    </tr>\n",
       "    <tr>\n",
       "      <th>3</th>\n",
       "      <td>great</td>\n",
       "      <td>7193.917729</td>\n",
       "    </tr>\n",
       "    <tr>\n",
       "      <th>4</th>\n",
       "      <td>like</td>\n",
       "      <td>5216.615299</td>\n",
       "    </tr>\n",
       "    <tr>\n",
       "      <th>5</th>\n",
       "      <td>time</td>\n",
       "      <td>5138.182117</td>\n",
       "    </tr>\n",
       "    <tr>\n",
       "      <th>6</th>\n",
       "      <td>service</td>\n",
       "      <td>4929.993934</td>\n",
       "    </tr>\n",
       "    <tr>\n",
       "      <th>7</th>\n",
       "      <td>get</td>\n",
       "      <td>4736.035549</td>\n",
       "    </tr>\n",
       "    <tr>\n",
       "      <th>8</th>\n",
       "      <td>one</td>\n",
       "      <td>4611.213087</td>\n",
       "    </tr>\n",
       "    <tr>\n",
       "      <th>9</th>\n",
       "      <td>go</td>\n",
       "      <td>4533.892097</td>\n",
       "    </tr>\n",
       "    <tr>\n",
       "      <th>10</th>\n",
       "      <td>really</td>\n",
       "      <td>4305.913417</td>\n",
       "    </tr>\n",
       "    <tr>\n",
       "      <th>11</th>\n",
       "      <td>love</td>\n",
       "      <td>4246.189558</td>\n",
       "    </tr>\n",
       "    <tr>\n",
       "      <th>12</th>\n",
       "      <td>back</td>\n",
       "      <td>3882.157242</td>\n",
       "    </tr>\n",
       "    <tr>\n",
       "      <th>13</th>\n",
       "      <td>would</td>\n",
       "      <td>3678.103005</td>\n",
       "    </tr>\n",
       "    <tr>\n",
       "      <th>14</th>\n",
       "      <td>always</td>\n",
       "      <td>3553.020392</td>\n",
       "    </tr>\n",
       "    <tr>\n",
       "      <th>15</th>\n",
       "      <td>nice</td>\n",
       "      <td>3472.582758</td>\n",
       "    </tr>\n",
       "    <tr>\n",
       "      <th>16</th>\n",
       "      <td>best</td>\n",
       "      <td>3451.504116</td>\n",
       "    </tr>\n",
       "    <tr>\n",
       "      <th>17</th>\n",
       "      <td>dont</td>\n",
       "      <td>3255.737686</td>\n",
       "    </tr>\n",
       "    <tr>\n",
       "      <th>18</th>\n",
       "      <td>pizza</td>\n",
       "      <td>3249.195365</td>\n",
       "    </tr>\n",
       "    <tr>\n",
       "      <th>19</th>\n",
       "      <td>also</td>\n",
       "      <td>3163.564243</td>\n",
       "    </tr>\n",
       "  </tbody>\n",
       "</table>\n",
       "</div>"
      ],
      "text/plain": [
       "       term    frequency\n",
       "0     place  7812.069734\n",
       "1      good  7597.962532\n",
       "2      food  7553.172953\n",
       "3     great  7193.917729\n",
       "4      like  5216.615299\n",
       "5      time  5138.182117\n",
       "6   service  4929.993934\n",
       "7       get  4736.035549\n",
       "8       one  4611.213087\n",
       "9        go  4533.892097\n",
       "10   really  4305.913417\n",
       "11     love  4246.189558\n",
       "12     back  3882.157242\n",
       "13    would  3678.103005\n",
       "14   always  3553.020392\n",
       "15     nice  3472.582758\n",
       "16     best  3451.504116\n",
       "17     dont  3255.737686\n",
       "18    pizza  3249.195365\n",
       "19     also  3163.564243"
      ]
     },
     "execution_count": 51,
     "metadata": {},
     "output_type": "execute_result"
    }
   ],
   "source": [
    "# Create a DataFrame for term frequencies\n",
    "tf = pd.DataFrame({'term': feature_names, 'frequency': term_frequencies})\n",
    "\n",
    "# Sort terms by frequency\n",
    "tf = tf.sort_values(by='frequency', ascending=False).reset_index(drop=True)\n",
    "\n",
    "# Print or further analyze 'tf' DataFrame\n",
    "tf.head(20)"
   ]
  },
  {
   "cell_type": "code",
   "execution_count": 57,
   "id": "100fe51b-1c93-4e09-bc8b-97078063d9e9",
   "metadata": {},
   "outputs": [
    {
     "data": {
      "image/png": "[encoded data removed]",
      "text/plain": [
       "<Figure size 1200x800 with 1 Axes>"
      ]
     },
     "metadata": {},
     "output_type": "display_data"
    }
   ],
   "source": [
    "top_words = tf.head(20)\n",
    "\n",
    "# Initialize the plot\n",
    "plt.figure(figsize=(12, 8))\n",
    "\n",
    "# Create a bar plot using Seaborn\n",
    "sns.barplot(x='frequency', y='term', data=top_words, palette='viridis')\n",
    "\n",
    "# Customize the plot\n",
    "plt.xlabel('Frequency')\n",
    "plt.ylabel('Words')\n",
    "plt.title('Top 20 Frequent Words')\n",
    "plt.xticks(rotation=45)  # Rotate x-axis labels for better readability\n",
    "\n",
    "# Display the plot\n",
    "plt.tight_layout()\n",
    "plt.show()"
   ]
  },
  {
   "cell_type": "markdown",
   "id": "3b974fe4-7a72-4825-aa29-6829609c30b6",
   "metadata": {},
   "source": [
    "<div style=\"background-color:  #3366ff; color: #e6f7ff; padding: 20px; border-radius: 10px;\">\n",
    "  <h2>4. Sentiment Analysis </h2>\n",
    "</div>\n"
   ]
  },
  {
   "cell_type": "code",
   "execution_count": 59,
   "id": "002ed731-6fa6-48a5-9b96-7f7f3be260cb",
   "metadata": {
    "collapsed": true,
    "jupyter": {
     "outputs_hidden": true
    }
   },
   "outputs": [
    {
     "name": "stderr",
     "output_type": "stream",
     "text": [
      "[nltk_data] Downloading package vader_lexicon to\n",
      "[nltk_data]     /Users/nazira/nltk_data...\n"
     ]
    },
    {
     "data": {
      "text/plain": [
       "True"
      ]
     },
     "execution_count": 59,
     "metadata": {},
     "output_type": "execute_result"
    }
   ],
   "source": [
    "nltk.download('vader_lexicon')"
   ]
  },
  {
   "cell_type": "code",
   "execution_count": 60,
   "id": "d1f32c1c-1c29-4c2c-9b7e-19add6c9819d",
   "metadata": {},
   "outputs": [
    {
     "data": {
      "text/plain": [
       "0    wife took birthday breakfast excellent weather...\n",
       "1    idea people give bad review place go show plea...\n",
       "2    love gyro plate rice good also dig candy selec...\n",
       "3    rosie dakota love chaparral dog park convenien...\n",
       "4    general manager scott good egg go detail let a...\n",
       "Name: text, dtype: object"
      ]
     },
     "execution_count": 60,
     "metadata": {},
     "output_type": "execute_result"
    }
   ],
   "source": [
    "yelp_orig[\"text\"].head()"
   ]
  },
  {
   "cell_type": "code",
   "execution_count": 61,
   "id": "cd77b684-ecaa-4277-b6f5-305a51f47e1a",
   "metadata": {},
   "outputs": [],
   "source": [
    "sia = SentimentIntensityAnalyzer()"
   ]
  },
  {
   "cell_type": "code",
   "execution_count": 62,
   "id": "478a5ea6-2527-4088-ba50-e49df1f25997",
   "metadata": {},
   "outputs": [
    {
     "data": {
      "text/plain": [
       "{'neg': 0.225, 'neu': 0.599, 'pos': 0.176, 'compound': -0.165}"
      ]
     },
     "execution_count": 62,
     "metadata": {},
     "output_type": "execute_result"
    }
   ],
   "source": [
    "sia.polarity_scores(\"The food was delicious, but the service was not nice.\")"
   ]
  },
  {
   "cell_type": "code",
   "execution_count": 67,
   "id": "33847916-637a-4c70-92b9-c7a20a21396c",
   "metadata": {},
   "outputs": [
    {
     "data": {
      "text/plain": [
       "{'neg': 0.0, 'neu': 0.549, 'pos': 0.451, 'compound': 0.6249}"
      ]
     },
     "execution_count": 67,
     "metadata": {},
     "output_type": "execute_result"
    }
   ],
   "source": [
    "sia.polarity_scores(\"It was great to be there.\")"
   ]
  },
  {
   "cell_type": "code",
   "execution_count": 69,
   "id": "9c51262c-c25c-4211-b196-d8de2b9e0c06",
   "metadata": {},
   "outputs": [
    {
     "data": {
      "text/plain": [
       "0    0.9950\n",
       "1    0.9901\n",
       "2    0.7964\n",
       "3    0.9360\n",
       "4    0.9561\n",
       "5    0.9903\n",
       "6    0.9931\n",
       "7    0.9517\n",
       "8    0.9643\n",
       "9    0.6124\n",
       "Name: text, dtype: float64"
      ]
     },
     "execution_count": 69,
     "metadata": {},
     "output_type": "execute_result"
    }
   ],
   "source": [
    "yelp_orig[\"text\"][0:10].apply(lambda x: sia.polarity_scores(x)[\"compound\"])\n"
   ]
  },
  {
   "cell_type": "code",
   "execution_count": 70,
   "id": "14e30a6c-fb8f-4fc7-a124-e638a534ae7c",
   "metadata": {},
   "outputs": [],
   "source": [
    "yelp_orig[\"polarity_score\"] =yelp_orig[\"text\"].apply(lambda x: sia.polarity_scores(x)[\"compound\"])"
   ]
  },
  {
   "cell_type": "code",
   "execution_count": 71,
   "id": "94f9a6aa-0363-41e2-b95e-463252d600a6",
   "metadata": {},
   "outputs": [
    {
     "data": {
      "text/html": [
       "<div>\n",
       "<style scoped>\n",
       "    .dataframe tbody tr th:only-of-type {\n",
       "        vertical-align: middle;\n",
       "    }\n",
       "\n",
       "    .dataframe tbody tr th {\n",
       "        vertical-align: top;\n",
       "    }\n",
       "\n",
       "    .dataframe thead th {\n",
       "        text-align: right;\n",
       "    }\n",
       "</style>\n",
       "<table border=\"1\" class=\"dataframe\">\n",
       "  <thead>\n",
       "    <tr style=\"text-align: right;\">\n",
       "      <th></th>\n",
       "      <th>user_id</th>\n",
       "      <th>review_id</th>\n",
       "      <th>stars</th>\n",
       "      <th>date</th>\n",
       "      <th>text</th>\n",
       "      <th>type</th>\n",
       "      <th>business_id</th>\n",
       "      <th>funny</th>\n",
       "      <th>useful</th>\n",
       "      <th>cool</th>\n",
       "      <th>polarity_score</th>\n",
       "    </tr>\n",
       "  </thead>\n",
       "  <tbody>\n",
       "    <tr>\n",
       "      <th>0</th>\n",
       "      <td>rLtl8ZkDX5vH5nAx9C3q5Q</td>\n",
       "      <td>fWKvX83p0-ka4JS3dc6E5A</td>\n",
       "      <td>5</td>\n",
       "      <td>2011-01-26</td>\n",
       "      <td>wife took birthday breakfast excellent weather...</td>\n",
       "      <td>review</td>\n",
       "      <td>9yKzy9PApeiPPOUJEtnvkg</td>\n",
       "      <td>0</td>\n",
       "      <td>5</td>\n",
       "      <td>2</td>\n",
       "      <td>0.9950</td>\n",
       "    </tr>\n",
       "    <tr>\n",
       "      <th>1</th>\n",
       "      <td>0a2KyEL0d3Yb1V6aivbIuQ</td>\n",
       "      <td>IjZ33sJrzXqU-0X6U8NwyA</td>\n",
       "      <td>5</td>\n",
       "      <td>2011-07-27</td>\n",
       "      <td>idea people give bad review place go show plea...</td>\n",
       "      <td>review</td>\n",
       "      <td>ZRJwVLyzEJq1VAihDhYiow</td>\n",
       "      <td>0</td>\n",
       "      <td>0</td>\n",
       "      <td>0</td>\n",
       "      <td>0.9901</td>\n",
       "    </tr>\n",
       "    <tr>\n",
       "      <th>2</th>\n",
       "      <td>0hT2KtfLiobPvh6cDC8JQg</td>\n",
       "      <td>IESLBzqUCLdSzSqm0eCSxQ</td>\n",
       "      <td>4</td>\n",
       "      <td>2012-06-14</td>\n",
       "      <td>love gyro plate rice good also dig candy selec...</td>\n",
       "      <td>review</td>\n",
       "      <td>6oRAC4uyJCsJl1X0WZpVSA</td>\n",
       "      <td>0</td>\n",
       "      <td>1</td>\n",
       "      <td>0</td>\n",
       "      <td>0.7964</td>\n",
       "    </tr>\n",
       "    <tr>\n",
       "      <th>3</th>\n",
       "      <td>uZetl9T0NcROGOyFfughhg</td>\n",
       "      <td>G-WvGaISbqqaMHlNnByodA</td>\n",
       "      <td>5</td>\n",
       "      <td>2010-05-27</td>\n",
       "      <td>rosie dakota love chaparral dog park convenien...</td>\n",
       "      <td>review</td>\n",
       "      <td>_1QQZuf4zZOyFCvXc0o6Vg</td>\n",
       "      <td>0</td>\n",
       "      <td>2</td>\n",
       "      <td>1</td>\n",
       "      <td>0.9360</td>\n",
       "    </tr>\n",
       "    <tr>\n",
       "      <th>4</th>\n",
       "      <td>vYmM4KTsC8ZfQBg-j5MWkw</td>\n",
       "      <td>1uJFq2r5QfJG_6ExMRCaGw</td>\n",
       "      <td>5</td>\n",
       "      <td>2012-01-05</td>\n",
       "      <td>general manager scott good egg go detail let a...</td>\n",
       "      <td>review</td>\n",
       "      <td>6ozycU1RpktNG2-1BroVtw</td>\n",
       "      <td>0</td>\n",
       "      <td>0</td>\n",
       "      <td>0</td>\n",
       "      <td>0.9561</td>\n",
       "    </tr>\n",
       "    <tr>\n",
       "      <th>5</th>\n",
       "      <td>sqYN3lNgvPbPCTRsMFu27g</td>\n",
       "      <td>m2CKSsepBCoRYWxiRUsxAg</td>\n",
       "      <td>4</td>\n",
       "      <td>2007-12-13</td>\n",
       "      <td>quiessence simply put beautiful full window ea...</td>\n",
       "      <td>review</td>\n",
       "      <td>-yxfBYGB6SEqszmxJxd97A</td>\n",
       "      <td>1</td>\n",
       "      <td>3</td>\n",
       "      <td>4</td>\n",
       "      <td>0.9903</td>\n",
       "    </tr>\n",
       "    <tr>\n",
       "      <th>6</th>\n",
       "      <td>wFweIWhv2fREZV_dYkz_1g</td>\n",
       "      <td>riFQ3vxNpP4rWLk_CSri2A</td>\n",
       "      <td>5</td>\n",
       "      <td>2010-02-12</td>\n",
       "      <td>drop youre drive ate go back next day food goo...</td>\n",
       "      <td>review</td>\n",
       "      <td>zp713qNhx8d9KCJJnrw1xA</td>\n",
       "      <td>4</td>\n",
       "      <td>7</td>\n",
       "      <td>7</td>\n",
       "      <td>0.9931</td>\n",
       "    </tr>\n",
       "    <tr>\n",
       "      <th>7</th>\n",
       "      <td>1ieuYcKS7zeAv_U15AB13A</td>\n",
       "      <td>JL7GXJ9u4YMx7Rzs05NfiQ</td>\n",
       "      <td>4</td>\n",
       "      <td>2012-07-12</td>\n",
       "      <td>luckily didnt travel far make connecting fligh...</td>\n",
       "      <td>review</td>\n",
       "      <td>hW0Ne_HTHEAgGF1rAdmR-g</td>\n",
       "      <td>0</td>\n",
       "      <td>1</td>\n",
       "      <td>0</td>\n",
       "      <td>0.9517</td>\n",
       "    </tr>\n",
       "    <tr>\n",
       "      <th>8</th>\n",
       "      <td>Vh_DlizgGhSqQh4qfZ2h6A</td>\n",
       "      <td>XtnfnYmnJYi71yIuGsXIUA</td>\n",
       "      <td>4</td>\n",
       "      <td>2012-08-17</td>\n",
       "      <td>definitely come happy hour price amazing sake ...</td>\n",
       "      <td>review</td>\n",
       "      <td>wNUea3IXZWD63bbOQaOH-g</td>\n",
       "      <td>0</td>\n",
       "      <td>0</td>\n",
       "      <td>0</td>\n",
       "      <td>0.9643</td>\n",
       "    </tr>\n",
       "    <tr>\n",
       "      <th>9</th>\n",
       "      <td>sUNkXg8-KFtCMQDV6zRzQg</td>\n",
       "      <td>jJAIXA46pU1swYyRCdfXtQ</td>\n",
       "      <td>5</td>\n",
       "      <td>2010-08-11</td>\n",
       "      <td>nobuo show unique talent everything menu caref...</td>\n",
       "      <td>review</td>\n",
       "      <td>nMHhuYan8e3cONo3PornJA</td>\n",
       "      <td>0</td>\n",
       "      <td>1</td>\n",
       "      <td>0</td>\n",
       "      <td>0.6124</td>\n",
       "    </tr>\n",
       "    <tr>\n",
       "      <th>10</th>\n",
       "      <td>-OMlS6yWkYjVldNhC31wYg</td>\n",
       "      <td>E11jzpKz9Kw5K7fuARWfRw</td>\n",
       "      <td>5</td>\n",
       "      <td>2010-06-16</td>\n",
       "      <td>oldish man owns store sweet perhaps sweeter co...</td>\n",
       "      <td>review</td>\n",
       "      <td>AsSCv0q_BWqIe3mX2JqsOQ</td>\n",
       "      <td>1</td>\n",
       "      <td>3</td>\n",
       "      <td>1</td>\n",
       "      <td>0.8750</td>\n",
       "    </tr>\n",
       "    <tr>\n",
       "      <th>11</th>\n",
       "      <td>C1rHp3dmepNea7XiouwB6Q</td>\n",
       "      <td>3rPt0LxF7rgmEUrznoH22w</td>\n",
       "      <td>5</td>\n",
       "      <td>2011-10-21</td>\n",
       "      <td>wonderful vietnamese sandwich shoppe baguette ...</td>\n",
       "      <td>review</td>\n",
       "      <td>e9nN4XxjdHj4qtKCOPq_vg</td>\n",
       "      <td>0</td>\n",
       "      <td>1</td>\n",
       "      <td>1</td>\n",
       "      <td>0.9618</td>\n",
       "    </tr>\n",
       "    <tr>\n",
       "      <th>12</th>\n",
       "      <td>UPtysDF6cUDUxq2KY-6Dcg</td>\n",
       "      <td>cGnKNX3I9rthE0-TH24-qA</td>\n",
       "      <td>5</td>\n",
       "      <td>2010-01-11</td>\n",
       "      <td>limited time thing going right bbq chicken piz...</td>\n",
       "      <td>review</td>\n",
       "      <td>h53YuCiIDfEFSJCQpk8v1g</td>\n",
       "      <td>0</td>\n",
       "      <td>2</td>\n",
       "      <td>1</td>\n",
       "      <td>0.9442</td>\n",
       "    </tr>\n",
       "    <tr>\n",
       "      <th>13</th>\n",
       "      <td>Xm8HXE1JHqscXe5BKf0GFQ</td>\n",
       "      <td>FvEEw1_OsrYdvwLV5Hrliw</td>\n",
       "      <td>4</td>\n",
       "      <td>2011-12-23</td>\n",
       "      <td>good tattoo shop clean space multiple artist c...</td>\n",
       "      <td>review</td>\n",
       "      <td>WGNIYMeXPyoWav1APUq7jA</td>\n",
       "      <td>0</td>\n",
       "      <td>2</td>\n",
       "      <td>1</td>\n",
       "      <td>0.9538</td>\n",
       "    </tr>\n",
       "    <tr>\n",
       "      <th>14</th>\n",
       "      <td>JOG-4G4e8ae3lx_szHtR8g</td>\n",
       "      <td>pfUwBKYYmUXeiwrhDluQcw</td>\n",
       "      <td>4</td>\n",
       "      <td>2010-05-20</td>\n",
       "      <td>im week new phoenix looked irish bar town foun...</td>\n",
       "      <td>review</td>\n",
       "      <td>yc5AH9H71xJidA_J2mChLA</td>\n",
       "      <td>0</td>\n",
       "      <td>1</td>\n",
       "      <td>1</td>\n",
       "      <td>0.9938</td>\n",
       "    </tr>\n",
       "    <tr>\n",
       "      <th>15</th>\n",
       "      <td>ylWOj2y7TV2e3yYeWhu2QA</td>\n",
       "      <td>HvqmdqWcerVWO3Gs6zbrOw</td>\n",
       "      <td>2</td>\n",
       "      <td>2011-03-20</td>\n",
       "      <td>worth salad small pizza absolutely bad service...</td>\n",
       "      <td>review</td>\n",
       "      <td>Vb9FPCEL6Ly24PNxLBaAFw</td>\n",
       "      <td>0</td>\n",
       "      <td>2</td>\n",
       "      <td>0</td>\n",
       "      <td>-0.8004</td>\n",
       "    </tr>\n",
       "    <tr>\n",
       "      <th>16</th>\n",
       "      <td>SBbftLzfYYKItOMFwOTIJg</td>\n",
       "      <td>HXP_0Ul-FCmA4f-k9CqvaQ</td>\n",
       "      <td>3</td>\n",
       "      <td>2008-10-12</td>\n",
       "      <td>went saturday afternoon place incredibly empty...</td>\n",
       "      <td>review</td>\n",
       "      <td>supigcPNO9IKo6olaTNV-g</td>\n",
       "      <td>2</td>\n",
       "      <td>4</td>\n",
       "      <td>3</td>\n",
       "      <td>0.3568</td>\n",
       "    </tr>\n",
       "    <tr>\n",
       "      <th>17</th>\n",
       "      <td>u1KWcbPMvXFEEYkZZ0Yktg</td>\n",
       "      <td>j4SIzrIy0WrmW4yr4--Khg</td>\n",
       "      <td>5</td>\n",
       "      <td>2010-05-03</td>\n",
       "      <td>okay best place ever grew shopping one los gat...</td>\n",
       "      <td>review</td>\n",
       "      <td>O510Re68mOy9dU490JTKCg</td>\n",
       "      <td>0</td>\n",
       "      <td>0</td>\n",
       "      <td>0</td>\n",
       "      <td>0.8591</td>\n",
       "    </tr>\n",
       "    <tr>\n",
       "      <th>18</th>\n",
       "      <td>UsULgP4bKA8RMzs8dQzcsA</td>\n",
       "      <td>v0cTd3PNpYCkTyGKSpOfGA</td>\n",
       "      <td>3</td>\n",
       "      <td>2009-03-06</td>\n",
       "      <td>met friend lunch yesterday loved water feature...</td>\n",
       "      <td>review</td>\n",
       "      <td>b5cEoKR8iQliq-yT2_O0LQ</td>\n",
       "      <td>4</td>\n",
       "      <td>6</td>\n",
       "      <td>5</td>\n",
       "      <td>0.9890</td>\n",
       "    </tr>\n",
       "    <tr>\n",
       "      <th>19</th>\n",
       "      <td>nDBly08j5URmrHQ2JCbyiw</td>\n",
       "      <td>a0lCu-j2Sk_kHQsZi_eNgw</td>\n",
       "      <td>4</td>\n",
       "      <td>2011-11-17</td>\n",
       "      <td>theyve gotten better better time since review ...</td>\n",
       "      <td>review</td>\n",
       "      <td>4JzzbSbK9wmlOBJZWYfuCg</td>\n",
       "      <td>1</td>\n",
       "      <td>1</td>\n",
       "      <td>1</td>\n",
       "      <td>0.5252</td>\n",
       "    </tr>\n",
       "  </tbody>\n",
       "</table>\n",
       "</div>"
      ],
      "text/plain": [
       "                   user_id               review_id  stars       date  \\\n",
       "0   rLtl8ZkDX5vH5nAx9C3q5Q  fWKvX83p0-ka4JS3dc6E5A      5 2011-01-26   \n",
       "1   0a2KyEL0d3Yb1V6aivbIuQ  IjZ33sJrzXqU-0X6U8NwyA      5 2011-07-27   \n",
       "2   0hT2KtfLiobPvh6cDC8JQg  IESLBzqUCLdSzSqm0eCSxQ      4 2012-06-14   \n",
       "3   uZetl9T0NcROGOyFfughhg  G-WvGaISbqqaMHlNnByodA      5 2010-05-27   \n",
       "4   vYmM4KTsC8ZfQBg-j5MWkw  1uJFq2r5QfJG_6ExMRCaGw      5 2012-01-05   \n",
       "5   sqYN3lNgvPbPCTRsMFu27g  m2CKSsepBCoRYWxiRUsxAg      4 2007-12-13   \n",
       "6   wFweIWhv2fREZV_dYkz_1g  riFQ3vxNpP4rWLk_CSri2A      5 2010-02-12   \n",
       "7   1ieuYcKS7zeAv_U15AB13A  JL7GXJ9u4YMx7Rzs05NfiQ      4 2012-07-12   \n",
       "8   Vh_DlizgGhSqQh4qfZ2h6A  XtnfnYmnJYi71yIuGsXIUA      4 2012-08-17   \n",
       "9   sUNkXg8-KFtCMQDV6zRzQg  jJAIXA46pU1swYyRCdfXtQ      5 2010-08-11   \n",
       "10  -OMlS6yWkYjVldNhC31wYg  E11jzpKz9Kw5K7fuARWfRw      5 2010-06-16   \n",
       "11  C1rHp3dmepNea7XiouwB6Q  3rPt0LxF7rgmEUrznoH22w      5 2011-10-21   \n",
       "12  UPtysDF6cUDUxq2KY-6Dcg  cGnKNX3I9rthE0-TH24-qA      5 2010-01-11   \n",
       "13  Xm8HXE1JHqscXe5BKf0GFQ  FvEEw1_OsrYdvwLV5Hrliw      4 2011-12-23   \n",
       "14  JOG-4G4e8ae3lx_szHtR8g  pfUwBKYYmUXeiwrhDluQcw      4 2010-05-20   \n",
       "15  ylWOj2y7TV2e3yYeWhu2QA  HvqmdqWcerVWO3Gs6zbrOw      2 2011-03-20   \n",
       "16  SBbftLzfYYKItOMFwOTIJg  HXP_0Ul-FCmA4f-k9CqvaQ      3 2008-10-12   \n",
       "17  u1KWcbPMvXFEEYkZZ0Yktg  j4SIzrIy0WrmW4yr4--Khg      5 2010-05-03   \n",
       "18  UsULgP4bKA8RMzs8dQzcsA  v0cTd3PNpYCkTyGKSpOfGA      3 2009-03-06   \n",
       "19  nDBly08j5URmrHQ2JCbyiw  a0lCu-j2Sk_kHQsZi_eNgw      4 2011-11-17   \n",
       "\n",
       "                                                 text    type  \\\n",
       "0   wife took birthday breakfast excellent weather...  review   \n",
       "1   idea people give bad review place go show plea...  review   \n",
       "2   love gyro plate rice good also dig candy selec...  review   \n",
       "3   rosie dakota love chaparral dog park convenien...  review   \n",
       "4   general manager scott good egg go detail let a...  review   \n",
       "5   quiessence simply put beautiful full window ea...  review   \n",
       "6   drop youre drive ate go back next day food goo...  review   \n",
       "7   luckily didnt travel far make connecting fligh...  review   \n",
       "8   definitely come happy hour price amazing sake ...  review   \n",
       "9   nobuo show unique talent everything menu caref...  review   \n",
       "10  oldish man owns store sweet perhaps sweeter co...  review   \n",
       "11  wonderful vietnamese sandwich shoppe baguette ...  review   \n",
       "12  limited time thing going right bbq chicken piz...  review   \n",
       "13  good tattoo shop clean space multiple artist c...  review   \n",
       "14  im week new phoenix looked irish bar town foun...  review   \n",
       "15  worth salad small pizza absolutely bad service...  review   \n",
       "16  went saturday afternoon place incredibly empty...  review   \n",
       "17  okay best place ever grew shopping one los gat...  review   \n",
       "18  met friend lunch yesterday loved water feature...  review   \n",
       "19  theyve gotten better better time since review ...  review   \n",
       "\n",
       "               business_id  funny  useful  cool  polarity_score  \n",
       "0   9yKzy9PApeiPPOUJEtnvkg      0       5     2          0.9950  \n",
       "1   ZRJwVLyzEJq1VAihDhYiow      0       0     0          0.9901  \n",
       "2   6oRAC4uyJCsJl1X0WZpVSA      0       1     0          0.7964  \n",
       "3   _1QQZuf4zZOyFCvXc0o6Vg      0       2     1          0.9360  \n",
       "4   6ozycU1RpktNG2-1BroVtw      0       0     0          0.9561  \n",
       "5   -yxfBYGB6SEqszmxJxd97A      1       3     4          0.9903  \n",
       "6   zp713qNhx8d9KCJJnrw1xA      4       7     7          0.9931  \n",
       "7   hW0Ne_HTHEAgGF1rAdmR-g      0       1     0          0.9517  \n",
       "8   wNUea3IXZWD63bbOQaOH-g      0       0     0          0.9643  \n",
       "9   nMHhuYan8e3cONo3PornJA      0       1     0          0.6124  \n",
       "10  AsSCv0q_BWqIe3mX2JqsOQ      1       3     1          0.8750  \n",
       "11  e9nN4XxjdHj4qtKCOPq_vg      0       1     1          0.9618  \n",
       "12  h53YuCiIDfEFSJCQpk8v1g      0       2     1          0.9442  \n",
       "13  WGNIYMeXPyoWav1APUq7jA      0       2     1          0.9538  \n",
       "14  yc5AH9H71xJidA_J2mChLA      0       1     1          0.9938  \n",
       "15  Vb9FPCEL6Ly24PNxLBaAFw      0       2     0         -0.8004  \n",
       "16  supigcPNO9IKo6olaTNV-g      2       4     3          0.3568  \n",
       "17  O510Re68mOy9dU490JTKCg      0       0     0          0.8591  \n",
       "18  b5cEoKR8iQliq-yT2_O0LQ      4       6     5          0.9890  \n",
       "19  4JzzbSbK9wmlOBJZWYfuCg      1       1     1          0.5252  "
      ]
     },
     "execution_count": 71,
     "metadata": {},
     "output_type": "execute_result"
    }
   ],
   "source": [
    "yelp_orig.head(20)"
   ]
  },
  {
   "cell_type": "markdown",
   "id": "30c2a72b-36c9-444b-b89e-92cfc9cba722",
   "metadata": {},
   "source": [
    "## 4.1 Feature Engineering ##"
   ]
  },
  {
   "cell_type": "markdown",
   "id": "ea0d63ef-a733-4cfc-9207-d3ee1e53cc68",
   "metadata": {},
   "source": [
    "**In this section, we perform sentiment analysis to assess the emotional sentiment conveyed in the texts. Each comment is categorized as either 'positive' (pos) or 'negative' (neg) based on its compound sentiment score. We then analyze how these sentiment labels are distributed throughout the dataset and their correlation with overall rating scores. To facilitate subsequent analysis and modeling, we convert these sentiment labels into numerical values. These steps are crucial for extracting valuable features from our text data, ensuring it is well-prepared for advanced analytical and modeling tasks.**"
   ]
  },
  {
   "cell_type": "code",
   "execution_count": 72,
   "id": "a6c67f35-bd31-4c1a-91b6-6ad02ea232c6",
   "metadata": {},
   "outputs": [
    {
     "data": {
      "text/plain": [
       "0    pos\n",
       "1    pos\n",
       "2    pos\n",
       "3    pos\n",
       "4    pos\n",
       "5    pos\n",
       "6    pos\n",
       "7    pos\n",
       "8    pos\n",
       "9    pos\n",
       "Name: text, dtype: object"
      ]
     },
     "execution_count": 72,
     "metadata": {},
     "output_type": "execute_result"
    }
   ],
   "source": [
    "yelp_orig[\"text\"][0:10].apply(lambda x: \"pos\" if sia.polarity_scores(x)[\"compound\"] > 0 else \"neg\")"
   ]
  },
  {
   "cell_type": "code",
   "execution_count": 78,
   "id": "64188798-c5ec-4d44-8bf3-3f76a506681d",
   "metadata": {},
   "outputs": [],
   "source": [
    "yelp_orig[\"sentiment_label\"] = yelp_orig[\"text\"].apply(lambda x: \"pos\" if sia.polarity_scores(x)[\"compound\"] > 0 else \"neg\")\n"
   ]
  },
  {
   "cell_type": "code",
   "execution_count": 80,
   "id": "0f205218-1bcf-4e17-9c8a-d53c2ff3767c",
   "metadata": {},
   "outputs": [
    {
     "data": {
      "text/html": [
       "<div>\n",
       "<style scoped>\n",
       "    .dataframe tbody tr th:only-of-type {\n",
       "        vertical-align: middle;\n",
       "    }\n",
       "\n",
       "    .dataframe tbody tr th {\n",
       "        vertical-align: top;\n",
       "    }\n",
       "\n",
       "    .dataframe thead th {\n",
       "        text-align: right;\n",
       "    }\n",
       "</style>\n",
       "<table border=\"1\" class=\"dataframe\">\n",
       "  <thead>\n",
       "    <tr style=\"text-align: right;\">\n",
       "      <th></th>\n",
       "      <th>user_id</th>\n",
       "      <th>review_id</th>\n",
       "      <th>stars</th>\n",
       "      <th>date</th>\n",
       "      <th>text</th>\n",
       "      <th>type</th>\n",
       "      <th>business_id</th>\n",
       "      <th>funny</th>\n",
       "      <th>useful</th>\n",
       "      <th>cool</th>\n",
       "      <th>polarity_score</th>\n",
       "      <th>sentiment_label</th>\n",
       "    </tr>\n",
       "  </thead>\n",
       "  <tbody>\n",
       "    <tr>\n",
       "      <th>0</th>\n",
       "      <td>rLtl8ZkDX5vH5nAx9C3q5Q</td>\n",
       "      <td>fWKvX83p0-ka4JS3dc6E5A</td>\n",
       "      <td>5</td>\n",
       "      <td>2011-01-26</td>\n",
       "      <td>wife took birthday breakfast excellent weather...</td>\n",
       "      <td>review</td>\n",
       "      <td>9yKzy9PApeiPPOUJEtnvkg</td>\n",
       "      <td>0</td>\n",
       "      <td>5</td>\n",
       "      <td>2</td>\n",
       "      <td>0.9950</td>\n",
       "      <td>pos</td>\n",
       "    </tr>\n",
       "    <tr>\n",
       "      <th>1</th>\n",
       "      <td>0a2KyEL0d3Yb1V6aivbIuQ</td>\n",
       "      <td>IjZ33sJrzXqU-0X6U8NwyA</td>\n",
       "      <td>5</td>\n",
       "      <td>2011-07-27</td>\n",
       "      <td>idea people give bad review place go show plea...</td>\n",
       "      <td>review</td>\n",
       "      <td>ZRJwVLyzEJq1VAihDhYiow</td>\n",
       "      <td>0</td>\n",
       "      <td>0</td>\n",
       "      <td>0</td>\n",
       "      <td>0.9901</td>\n",
       "      <td>pos</td>\n",
       "    </tr>\n",
       "    <tr>\n",
       "      <th>2</th>\n",
       "      <td>0hT2KtfLiobPvh6cDC8JQg</td>\n",
       "      <td>IESLBzqUCLdSzSqm0eCSxQ</td>\n",
       "      <td>4</td>\n",
       "      <td>2012-06-14</td>\n",
       "      <td>love gyro plate rice good also dig candy selec...</td>\n",
       "      <td>review</td>\n",
       "      <td>6oRAC4uyJCsJl1X0WZpVSA</td>\n",
       "      <td>0</td>\n",
       "      <td>1</td>\n",
       "      <td>0</td>\n",
       "      <td>0.7964</td>\n",
       "      <td>pos</td>\n",
       "    </tr>\n",
       "    <tr>\n",
       "      <th>3</th>\n",
       "      <td>uZetl9T0NcROGOyFfughhg</td>\n",
       "      <td>G-WvGaISbqqaMHlNnByodA</td>\n",
       "      <td>5</td>\n",
       "      <td>2010-05-27</td>\n",
       "      <td>rosie dakota love chaparral dog park convenien...</td>\n",
       "      <td>review</td>\n",
       "      <td>_1QQZuf4zZOyFCvXc0o6Vg</td>\n",
       "      <td>0</td>\n",
       "      <td>2</td>\n",
       "      <td>1</td>\n",
       "      <td>0.9360</td>\n",
       "      <td>pos</td>\n",
       "    </tr>\n",
       "    <tr>\n",
       "      <th>4</th>\n",
       "      <td>vYmM4KTsC8ZfQBg-j5MWkw</td>\n",
       "      <td>1uJFq2r5QfJG_6ExMRCaGw</td>\n",
       "      <td>5</td>\n",
       "      <td>2012-01-05</td>\n",
       "      <td>general manager scott good egg go detail let a...</td>\n",
       "      <td>review</td>\n",
       "      <td>6ozycU1RpktNG2-1BroVtw</td>\n",
       "      <td>0</td>\n",
       "      <td>0</td>\n",
       "      <td>0</td>\n",
       "      <td>0.9561</td>\n",
       "      <td>pos</td>\n",
       "    </tr>\n",
       "  </tbody>\n",
       "</table>\n",
       "</div>"
      ],
      "text/plain": [
       "                  user_id               review_id  stars       date  \\\n",
       "0  rLtl8ZkDX5vH5nAx9C3q5Q  fWKvX83p0-ka4JS3dc6E5A      5 2011-01-26   \n",
       "1  0a2KyEL0d3Yb1V6aivbIuQ  IjZ33sJrzXqU-0X6U8NwyA      5 2011-07-27   \n",
       "2  0hT2KtfLiobPvh6cDC8JQg  IESLBzqUCLdSzSqm0eCSxQ      4 2012-06-14   \n",
       "3  uZetl9T0NcROGOyFfughhg  G-WvGaISbqqaMHlNnByodA      5 2010-05-27   \n",
       "4  vYmM4KTsC8ZfQBg-j5MWkw  1uJFq2r5QfJG_6ExMRCaGw      5 2012-01-05   \n",
       "\n",
       "                                                text    type  \\\n",
       "0  wife took birthday breakfast excellent weather...  review   \n",
       "1  idea people give bad review place go show plea...  review   \n",
       "2  love gyro plate rice good also dig candy selec...  review   \n",
       "3  rosie dakota love chaparral dog park convenien...  review   \n",
       "4  general manager scott good egg go detail let a...  review   \n",
       "\n",
       "              business_id  funny  useful  cool  polarity_score sentiment_label  \n",
       "0  9yKzy9PApeiPPOUJEtnvkg      0       5     2          0.9950             pos  \n",
       "1  ZRJwVLyzEJq1VAihDhYiow      0       0     0          0.9901             pos  \n",
       "2  6oRAC4uyJCsJl1X0WZpVSA      0       1     0          0.7964             pos  \n",
       "3  _1QQZuf4zZOyFCvXc0o6Vg      0       2     1          0.9360             pos  \n",
       "4  6ozycU1RpktNG2-1BroVtw      0       0     0          0.9561             pos  "
      ]
     },
     "execution_count": 80,
     "metadata": {},
     "output_type": "execute_result"
    }
   ],
   "source": [
    "yelp_orig.head()"
   ]
  },
  {
   "cell_type": "code",
   "execution_count": 81,
   "id": "82711405-f93d-4733-a67f-9cd857cb5926",
   "metadata": {},
   "outputs": [
    {
     "data": {
      "text/plain": [
       "sentiment_label\n",
       "pos    210381\n",
       "neg     19499\n",
       "Name: count, dtype: int64"
      ]
     },
     "execution_count": 81,
     "metadata": {},
     "output_type": "execute_result"
    }
   ],
   "source": [
    "yelp_orig[\"sentiment_label\"].value_counts()"
   ]
  },
  {
   "cell_type": "code",
   "execution_count": 83,
   "id": "d943e878-d636-48e8-9b9c-36c354a3e21e",
   "metadata": {},
   "outputs": [],
   "source": [
    "yelp_orig[\"sentiment_label\"] = LabelEncoder().fit_transform(yelp_orig[\"sentiment_label\"])"
   ]
  },
  {
   "cell_type": "code",
   "execution_count": 84,
   "id": "66388e88-47f2-4b82-b954-908c951964b9",
   "metadata": {},
   "outputs": [
    {
     "data": {
      "text/html": [
       "<div>\n",
       "<style scoped>\n",
       "    .dataframe tbody tr th:only-of-type {\n",
       "        vertical-align: middle;\n",
       "    }\n",
       "\n",
       "    .dataframe tbody tr th {\n",
       "        vertical-align: top;\n",
       "    }\n",
       "\n",
       "    .dataframe thead th {\n",
       "        text-align: right;\n",
       "    }\n",
       "</style>\n",
       "<table border=\"1\" class=\"dataframe\">\n",
       "  <thead>\n",
       "    <tr style=\"text-align: right;\">\n",
       "      <th></th>\n",
       "      <th>user_id</th>\n",
       "      <th>review_id</th>\n",
       "      <th>stars</th>\n",
       "      <th>date</th>\n",
       "      <th>text</th>\n",
       "      <th>type</th>\n",
       "      <th>business_id</th>\n",
       "      <th>funny</th>\n",
       "      <th>useful</th>\n",
       "      <th>cool</th>\n",
       "      <th>polarity_score</th>\n",
       "      <th>sentiment_label</th>\n",
       "    </tr>\n",
       "  </thead>\n",
       "  <tbody>\n",
       "    <tr>\n",
       "      <th>0</th>\n",
       "      <td>rLtl8ZkDX5vH5nAx9C3q5Q</td>\n",
       "      <td>fWKvX83p0-ka4JS3dc6E5A</td>\n",
       "      <td>5</td>\n",
       "      <td>2011-01-26</td>\n",
       "      <td>wife took birthday breakfast excellent weather...</td>\n",
       "      <td>review</td>\n",
       "      <td>9yKzy9PApeiPPOUJEtnvkg</td>\n",
       "      <td>0</td>\n",
       "      <td>5</td>\n",
       "      <td>2</td>\n",
       "      <td>0.9950</td>\n",
       "      <td>1</td>\n",
       "    </tr>\n",
       "    <tr>\n",
       "      <th>1</th>\n",
       "      <td>0a2KyEL0d3Yb1V6aivbIuQ</td>\n",
       "      <td>IjZ33sJrzXqU-0X6U8NwyA</td>\n",
       "      <td>5</td>\n",
       "      <td>2011-07-27</td>\n",
       "      <td>idea people give bad review place go show plea...</td>\n",
       "      <td>review</td>\n",
       "      <td>ZRJwVLyzEJq1VAihDhYiow</td>\n",
       "      <td>0</td>\n",
       "      <td>0</td>\n",
       "      <td>0</td>\n",
       "      <td>0.9901</td>\n",
       "      <td>1</td>\n",
       "    </tr>\n",
       "    <tr>\n",
       "      <th>2</th>\n",
       "      <td>0hT2KtfLiobPvh6cDC8JQg</td>\n",
       "      <td>IESLBzqUCLdSzSqm0eCSxQ</td>\n",
       "      <td>4</td>\n",
       "      <td>2012-06-14</td>\n",
       "      <td>love gyro plate rice good also dig candy selec...</td>\n",
       "      <td>review</td>\n",
       "      <td>6oRAC4uyJCsJl1X0WZpVSA</td>\n",
       "      <td>0</td>\n",
       "      <td>1</td>\n",
       "      <td>0</td>\n",
       "      <td>0.7964</td>\n",
       "      <td>1</td>\n",
       "    </tr>\n",
       "    <tr>\n",
       "      <th>3</th>\n",
       "      <td>uZetl9T0NcROGOyFfughhg</td>\n",
       "      <td>G-WvGaISbqqaMHlNnByodA</td>\n",
       "      <td>5</td>\n",
       "      <td>2010-05-27</td>\n",
       "      <td>rosie dakota love chaparral dog park convenien...</td>\n",
       "      <td>review</td>\n",
       "      <td>_1QQZuf4zZOyFCvXc0o6Vg</td>\n",
       "      <td>0</td>\n",
       "      <td>2</td>\n",
       "      <td>1</td>\n",
       "      <td>0.9360</td>\n",
       "      <td>1</td>\n",
       "    </tr>\n",
       "    <tr>\n",
       "      <th>4</th>\n",
       "      <td>vYmM4KTsC8ZfQBg-j5MWkw</td>\n",
       "      <td>1uJFq2r5QfJG_6ExMRCaGw</td>\n",
       "      <td>5</td>\n",
       "      <td>2012-01-05</td>\n",
       "      <td>general manager scott good egg go detail let a...</td>\n",
       "      <td>review</td>\n",
       "      <td>6ozycU1RpktNG2-1BroVtw</td>\n",
       "      <td>0</td>\n",
       "      <td>0</td>\n",
       "      <td>0</td>\n",
       "      <td>0.9561</td>\n",
       "      <td>1</td>\n",
       "    </tr>\n",
       "  </tbody>\n",
       "</table>\n",
       "</div>"
      ],
      "text/plain": [
       "                  user_id               review_id  stars       date  \\\n",
       "0  rLtl8ZkDX5vH5nAx9C3q5Q  fWKvX83p0-ka4JS3dc6E5A      5 2011-01-26   \n",
       "1  0a2KyEL0d3Yb1V6aivbIuQ  IjZ33sJrzXqU-0X6U8NwyA      5 2011-07-27   \n",
       "2  0hT2KtfLiobPvh6cDC8JQg  IESLBzqUCLdSzSqm0eCSxQ      4 2012-06-14   \n",
       "3  uZetl9T0NcROGOyFfughhg  G-WvGaISbqqaMHlNnByodA      5 2010-05-27   \n",
       "4  vYmM4KTsC8ZfQBg-j5MWkw  1uJFq2r5QfJG_6ExMRCaGw      5 2012-01-05   \n",
       "\n",
       "                                                text    type  \\\n",
       "0  wife took birthday breakfast excellent weather...  review   \n",
       "1  idea people give bad review place go show plea...  review   \n",
       "2  love gyro plate rice good also dig candy selec...  review   \n",
       "3  rosie dakota love chaparral dog park convenien...  review   \n",
       "4  general manager scott good egg go detail let a...  review   \n",
       "\n",
       "              business_id  funny  useful  cool  polarity_score  \\\n",
       "0  9yKzy9PApeiPPOUJEtnvkg      0       5     2          0.9950   \n",
       "1  ZRJwVLyzEJq1VAihDhYiow      0       0     0          0.9901   \n",
       "2  6oRAC4uyJCsJl1X0WZpVSA      0       1     0          0.7964   \n",
       "3  _1QQZuf4zZOyFCvXc0o6Vg      0       2     1          0.9360   \n",
       "4  6ozycU1RpktNG2-1BroVtw      0       0     0          0.9561   \n",
       "\n",
       "   sentiment_label  \n",
       "0                1  \n",
       "1                1  \n",
       "2                1  \n",
       "3                1  \n",
       "4                1  "
      ]
     },
     "execution_count": 84,
     "metadata": {},
     "output_type": "execute_result"
    }
   ],
   "source": [
    "yelp_orig.head()"
   ]
  },
  {
   "cell_type": "markdown",
   "id": "c22f94c5-20c7-4ee5-8f6b-6f8efcd14a6a",
   "metadata": {},
   "source": [
    "## 4.2 Count Vectors ##"
   ]
  },
  {
   "cell_type": "markdown",
   "id": "ba5cce5d-46ef-4374-bd9c-02d247989883",
   "metadata": {},
   "source": [
    "**In this section, we employ the CountVectorizer method to convert the textual content from the 'reviewText' column into numerical vectors. This transformation involves calculating the frequency of each word across the texts, which is then used to create a numerical representation for each text. This step is essential as it prepares the text data for integration into machine learning models. By converting texts into numerical formats, we streamline the extraction of significant features and optimize data processing during subsequent modeling phases. This approach ensures that our models can efficiently analyze and interpret textual data to derive meaningful insights.**"
   ]
  },
  {
   "cell_type": "code",
   "execution_count": 94,
   "id": "441d02fb-ebc3-4d9e-a930-66466bc9041d",
   "metadata": {},
   "outputs": [
    {
     "data": {
      "text/plain": [
       "0         wife took birthday breakfast excellent weather...\n",
       "1         idea people give bad review place go show plea...\n",
       "2         love gyro plate rice good also dig candy selec...\n",
       "3         rosie dakota love chaparral dog park convenien...\n",
       "4         general manager scott good egg go detail let a...\n",
       "                                ...                        \n",
       "229902    really wanted like place close home honestly b...\n",
       "229903    husband stayed two night course room wasnt rea...\n",
       "229904    cool atmosphere lot beer tap good food went sa...\n",
       "229905    take star spotty service received last time lu...\n",
       "229906                                              cool yo\n",
       "Name: text, Length: 229880, dtype: object"
      ]
     },
     "execution_count": 94,
     "metadata": {},
     "output_type": "execute_result"
    }
   ],
   "source": [
    "yelp_orig['text']"
   ]
  },
  {
   "cell_type": "code",
   "execution_count": 111,
   "id": "3b234f51-b31d-453b-b083-64ceba052da8",
   "metadata": {},
   "outputs": [],
   "source": [
    "from sklearn.feature_extraction.text import CountVectorizer\n"
   ]
  },
  {
   "cell_type": "code",
   "execution_count": 117,
   "id": "e0827baa-2431-495c-ae53-9363eb227e55",
   "metadata": {},
   "outputs": [],
   "source": [
    "import string\n",
    "from nltk.stem import WordNetLemmatizer\n",
    "\n",
    "lemmatizer = WordNetLemmatizer()\n",
    "\n",
    "\n",
    "# Example function for text preprocessing\n",
    "def preprocess_text(text):\n",
    "    # Tokenization\n",
    "    tokens = word_tokenize(text.lower())\n",
    "    \n",
    "    # Remove punctuation\n",
    "    tokens = [token for token in tokens if token not in string.punctuation]\n",
    "    \n",
    "    # Remove stopwords\n",
    "    stop_words = set(stopwords.words('english'))\n",
    "    tokens = [token for token in tokens if token not in stop_words]\n",
    "    \n",
    "    # Lemmatization\n",
    "    lemmatizer = WordNetLemmatizer()\n",
    "    tokens = [lemmatizer.lemmatize(token) for token in tokens]\n",
    "    \n",
    "    return ' '.join(tokens)\n",
    "\n",
    "# Apply preprocessing to your text data\n",
    "processed_text = yelp_orig['text'].apply(preprocess_text)\n"
   ]
  },
  {
   "cell_type": "code",
   "execution_count": 118,
   "id": "c79515f3-3347-4bec-853c-bb3ccd6d0f7f",
   "metadata": {},
   "outputs": [],
   "source": [
    "from sklearn.feature_extraction.text import CountVectorizer\n",
    "\n",
    "# Initialize CountVectorizer with desired parameters\n",
    "vectorizer = CountVectorizer(max_features=1000)  \n",
    "\n",
    "# Fit and transform the vectorizer on your preprocessed text data\n",
    "X = vectorizer.fit_transform(processed_text)\n",
    "\n",
    "\n",
    "feature_names = vectorizer.get_feature_names_out()\n"
   ]
  },
  {
   "cell_type": "code",
   "execution_count": 119,
   "id": "5c32d342-4eef-425e-960f-5e3d453bd235",
   "metadata": {},
   "outputs": [
    {
     "name": "stdout",
     "output_type": "stream",
     "text": [
      "   able  absolutely  across  actually  add  added  addition  afternoon  ago  \\\n",
      "0     0           1       0         0    0      0         0          0    0   \n",
      "1     0           0       0         0    0      0         0          0    0   \n",
      "2     0           0       0         0    0      0         0          0    0   \n",
      "3     0           0       0         0    0      0         0          0    0   \n",
      "4     0           0       0         0    0      0         0          0    0   \n",
      "\n",
      "   ahead  ...  yelp  yes  yet  yogurt  youll  young  youre  youve  yum  yummy  \n",
      "0      0  ...     0    0    0       0      0      0      0      0    0      0  \n",
      "1      0  ...     0    0    0       0      0      0      0      0    0      0  \n",
      "2      0  ...     0    0    0       0      0      0      0      0    0      0  \n",
      "3      0  ...     0    0    0       0      0      0      0      0    0      0  \n",
      "4      0  ...     0    0    0       0      0      0      0      1    0      0  \n",
      "\n",
      "[5 rows x 1000 columns]\n"
     ]
    }
   ],
   "source": [
    "# Create a DataFrame to explore the vectorized data\n",
    "vectorized_df = pd.DataFrame(X.toarray(), columns=feature_names)\n",
    "\n",
    "# Display the vectorized DataFrame\n",
    "print(vectorized_df.head())"
   ]
  },
  {
   "cell_type": "markdown",
   "id": "a602e956-b590-4c5d-804a-6f0eac1e2356",
   "metadata": {},
   "source": [
    "## 4.3 TF_IDF Vectors ##"
   ]
  },
  {
   "cell_type": "code",
   "execution_count": 125,
   "id": "12909450-8555-41b9-878b-c4863bea1f29",
   "metadata": {},
   "outputs": [],
   "source": [
    "from sklearn.feature_extraction.text import TfidfVectorizer\n",
    "\n",
    "\n",
    "texts = yelp_orig['text']\n",
    "\n",
    "\n",
    "tfidf_vectorizer = TfidfVectorizer()\n",
    "\n",
    "# Fit and transform the vectorizer on your data\n",
    "X_tf_idf_word = tfidf_vectorizer.fit_transform(texts)\n",
    "\n",
    "\n"
   ]
  },
  {
   "cell_type": "code",
   "execution_count": 128,
   "id": "f356128f-376a-4102-86d8-df9a9e8bdde0",
   "metadata": {},
   "outputs": [],
   "source": [
    "y = yelp_orig[\"sentiment_label\"] "
   ]
  },
  {
   "cell_type": "markdown",
   "id": "ff6b53d7-14bc-4f7c-abec-53c9a18a671c",
   "metadata": {},
   "source": [
    "## 4.4 Train Logistic Regression Model ##"
   ]
  },
  {
   "cell_type": "code",
   "execution_count": 137,
   "id": "53673acd-1e49-4686-8bb3-cefe081aa1d6",
   "metadata": {},
   "outputs": [],
   "source": [
    "\n",
    "log_model = LogisticRegression().fit(X_tf_idf_word, y)"
   ]
  },
  {
   "cell_type": "code",
   "execution_count": 138,
   "id": "c52d0154-74a7-4c35-b31c-fa0bd88afa70",
   "metadata": {},
   "outputs": [
    {
     "data": {
      "text/plain": [
       "0.9482860622933703"
      ]
     },
     "execution_count": 138,
     "metadata": {},
     "output_type": "execute_result"
    }
   ],
   "source": [
    "cross_val_score(log_model,\n",
    "                X_tf_idf_word,\n",
    "                y,\n",
    "                scoring=\"accuracy\",\n",
    "                cv=5).mean()"
   ]
  },
  {
   "cell_type": "code",
   "execution_count": 139,
   "id": "54222935-c0cc-4b64-a6bc-095ac879ddb8",
   "metadata": {},
   "outputs": [
    {
     "name": "stdout",
     "output_type": "stream",
     "text": [
      "Review: This restaurant was amazing, I loved the food! -> Predicted Sentiment: Positive\n",
      "Review: Terrible experience, wouldn't recommend it to anyone. -> Predicted Sentiment: Negative\n"
     ]
    }
   ],
   "source": [
    "from sklearn.linear_model import LogisticRegression\n",
    "from sklearn.feature_extraction.text import TfidfVectorizer\n",
    "\n",
    "# Fit the logistic regression model \n",
    "log_model = LogisticRegression().fit(X_tf_idf_word, y)\n",
    "\n",
    "# Example new reviews\n",
    "new_reviews = [\n",
    "    \"This restaurant was amazing, I loved the food!\",\n",
    "    \"Terrible experience, wouldn't recommend it to anyone.\"\n",
    "]\n",
    "\n",
    "# Apply preprocessing to new reviews\n",
    "processed_reviews = [preprocess_text(review) for review in new_reviews]\n",
    "\n",
    "\n",
    "X_new = tfidf_vectorizer.transform(processed_reviews)\n",
    "\n",
    "# Make predictions with the trained logistic regression model\n",
    "predictions = log_model.predict(X_new)\n",
    "\n",
    "# Interpret the predictions\n",
    "for review, prediction in zip(new_reviews, predictions):\n",
    "    sentiment = 'Positive' if prediction == 1 else 'Negative'\n",
    "    print(f\"Review: {review} -> Predicted Sentiment: {sentiment}\")\n",
    "\n",
    "\n"
   ]
  },
  {
   "cell_type": "markdown",
   "id": "c6bc1bd0-b903-40cd-be1f-267e06499b85",
   "metadata": {},
   "source": []
  },
  {
   "cell_type": "markdown",
   "id": "e4c92d87-303a-4595-97b4-6cac7720370f",
   "metadata": {},
   "source": [
    "**Based on our analysis and modeling, we achieved a cross-validation accuracy of 95% with our logistic regression model. This high accuracy indicates that our preprocessing steps, including text cleaning, tokenization, and TF-IDF vectorization, effectively prepared the text data for sentiment analysis. Our logistic regression model successfully captured the underlying patterns in the data, enabling it to predict sentiment with high accuracy. This project demonstrates the effectiveness of combining thorough data preprocessing with a robust machine learning algorithm to analyze and classify text data.**"
   ]
  },
  {
   "cell_type": "code",
   "execution_count": null,
   "id": "f2541a86-38a0-4169-a8a4-ac814e984c55",
   "metadata": {},
   "outputs": [],
   "source": []
  }
 ],
 "metadata": {
  "kernelspec": {
   "display_name": "Python 3 (ipykernel)",
   "language": "python",
   "name": "python3"
  },
  "language_info": {
   "codemirror_mode": {
    "name": "ipython",
    "version": 3
   },
   "file_extension": ".py",
   "mimetype": "text/x-python",
   "name": "python",
   "nbconvert_exporter": "python",
   "pygments_lexer": "ipython3",
   "version": "3.10.12"
  }
 },
 "nbformat": 4,
 "nbformat_minor": 5
}
